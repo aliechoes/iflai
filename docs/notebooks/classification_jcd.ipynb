{
 "cells": [
  {
   "cell_type": "code",
   "execution_count": null,
   "id": "sapphire-exploration",
   "metadata": {},
   "outputs": [],
   "source": []
  },
  {
   "cell_type": "code",
   "execution_count": 5,
   "id": "latin-alias",
   "metadata": {},
   "outputs": [
    {
     "ename": "ModuleNotFoundError",
     "evalue": "No module named 'iflai.ml.feature_extraction'",
     "output_type": "error",
     "traceback": [
      "\u001b[0;31m---------------------------------------------------------------------------\u001b[0m",
      "\u001b[0;31mModuleNotFoundError\u001b[0m                       Traceback (most recent call last)",
      "\u001b[0;32m<ipython-input-5-3e37e4a8b5eb>\u001b[0m in \u001b[0;36m<module>\u001b[0;34m\u001b[0m\n\u001b[1;32m      1\u001b[0m \u001b[0;32mimport\u001b[0m \u001b[0miflai\u001b[0m\u001b[0;34m\u001b[0m\u001b[0;34m\u001b[0m\u001b[0m\n\u001b[1;32m      2\u001b[0m \u001b[0;32mimport\u001b[0m \u001b[0mmatplotlib\u001b[0m\u001b[0;34m.\u001b[0m\u001b[0mpyplot\u001b[0m \u001b[0;32mas\u001b[0m \u001b[0mplt\u001b[0m\u001b[0;34m\u001b[0m\u001b[0;34m\u001b[0m\u001b[0m\n\u001b[0;32m----> 3\u001b[0;31m \u001b[0;32mimport\u001b[0m \u001b[0miflai\u001b[0m\u001b[0;34m.\u001b[0m\u001b[0mml\u001b[0m\u001b[0;34m.\u001b[0m\u001b[0mfeature_extraction\u001b[0m \u001b[0;32mas\u001b[0m \u001b[0mfeatures\u001b[0m\u001b[0;34m\u001b[0m\u001b[0;34m\u001b[0m\u001b[0m\n\u001b[0m\u001b[1;32m      4\u001b[0m \u001b[0;32mfrom\u001b[0m \u001b[0miflai\u001b[0m\u001b[0;34m.\u001b[0m\u001b[0mml\u001b[0m\u001b[0;34m.\u001b[0m\u001b[0mfeature_selection\u001b[0m \u001b[0;32mimport\u001b[0m \u001b[0mAutoFeatureSelection\u001b[0m\u001b[0;34m\u001b[0m\u001b[0;34m\u001b[0m\u001b[0m\n\u001b[1;32m      5\u001b[0m \u001b[0;32mimport\u001b[0m \u001b[0mnumpy\u001b[0m \u001b[0;32mas\u001b[0m \u001b[0mnp\u001b[0m\u001b[0;34m\u001b[0m\u001b[0;34m\u001b[0m\u001b[0m\n",
      "\u001b[0;31mModuleNotFoundError\u001b[0m: No module named 'iflai.ml.feature_extraction'"
     ]
    }
   ],
   "source": [
    "import iflai\n",
    "import matplotlib.pyplot as plt\n",
    "import iflai.ml.feature_extraction as features\n",
    "from iflai.ml.feature_selection import AutoFeatureSelection\n",
    "import numpy as np\n",
    "import pandas as pd\n",
    "import glob\n",
    "import warnings\n",
    "warnings.filterwarnings(\"ignore\")\n",
    "from tqdm import tqdm \n",
    "from sklearn.model_selection import train_test_split\n",
    "import h5py\n",
    "from sklearn.pipeline import Pipeline, FeatureUnion\n",
    "from sklearn.feature_extraction import DictVectorizer\n",
    "from iflai.utils import list_of_dict_to_dict\n",
    "from sklearn.preprocessing import MinMaxScaler \n",
    "from sklearn.ensemble import RandomForestClassifier\n",
    "from sklearn.model_selection import GridSearchCV\n",
    "from xgboost import XGBClassifier\n",
    "import seaborn as sns"
   ]
  },
  {
   "cell_type": "code",
   "execution_count": null,
   "id": "dramatic-giant",
   "metadata": {},
   "outputs": [],
   "source": [
    "from sklearn.metrics import (plot_confusion_matrix, \n",
    "                             matthews_corrcoef, \n",
    "                             classification_report,\n",
    "                             confusion_matrix, \n",
    "                             accuracy_score, \n",
    "                             balanced_accuracy_score, \n",
    "                             cohen_kappa_score, \n",
    "                             f1_score,  \n",
    "                             precision_score, recall_score)\n",
    "from statsmodels.stats.contingency_tables import mcnemar\n",
    "\n",
    "def classification_complete_report(estimator, X, y_true, plot = True ): \n",
    "    y_pred = estimator.predict(X)\n",
    "    print(classification_report(y_true, y_pred))\n",
    "    print(15*\"----\")\n",
    "    print(\"matthews correlation coeff: %.4f\" % (matthews_corrcoef(y_true, y_pred)) )\n",
    "    print(\"Cohen Kappa score: %.4f\" % (cohen_kappa_score(y_true, y_pred)) )\n",
    "    print(\"Accuracy: %.4f & balanced Accuracy: %.4f\" % (accuracy_score(y_true, y_pred), balanced_accuracy_score(y_true, y_pred)) )\n",
    "    print(\"macro F1 score: %.4f & micro F1 score: %.4f\" % (f1_score(y_true, y_pred, average = \"macro\"), f1_score(y_true, y_pred, average = \"micro\")) )\n",
    "    print(\"macro Precision score: %.4f & micro Precision score: %.4f\" % (precision_score(y_true, y_pred, average = \"macro\"), precision_score(y_true, y_pred, average = \"micro\")) )\n",
    "    print(\"macro Recall score: %.4f & micro Recall score: %.4f\" % (recall_score(y_true, y_pred, average = \"macro\"), recall_score(y_true, y_pred, average = \"micro\")) )\n",
    "    print(15*\"----\")\n",
    "    \n",
    "    if plot:\n",
    "        plot_confusion_matrix(estimator, X, y_true,cmap = \"Greys\", xticks_rotation='vertical')\n",
    "    "
   ]
  },
  {
   "cell_type": "code",
   "execution_count": null,
   "id": "strange-effort",
   "metadata": {},
   "outputs": [],
   "source": [
    "metadata = pd.DataFrame(columns=[\"file\", \"set\", \"label\"])\n",
    "metadata[\"file\"] = glob.glob(\"/pstore/data/DS4/Cell_Cycle_Reconstruction/Donor/condition/*.h5\")\n",
    "metadata[\"set\"] = \"train\""
   ]
  },
  {
   "cell_type": "code",
   "execution_count": null,
   "id": "internal-blame",
   "metadata": {},
   "outputs": [],
   "source": [
    "sample_image = h5py.File(metadata[\"file\"].iloc[0],\"r\").get(\"image\")[()]\n",
    "sample_mask = h5py.File(metadata[\"file\"].iloc[0],\"r\").get(\"mask\")[()]"
   ]
  },
  {
   "cell_type": "code",
   "execution_count": null,
   "id": "floppy-outreach",
   "metadata": {},
   "outputs": [],
   "source": [
    "combined_features = FeatureUnion([(\"GLCMFeatures\", features.GLCMFeatures()), \n",
    "                                  (\"MaskBasedFeatures\", features.MaskBasedFeatures()) ,\n",
    "                                  (\"GradientRMS\", features.GradientRMS()) ,\n",
    "                                  (\"BackgroundMean\", features.BackgroundMean()) ,\n",
    "                                  (\"CellShape\", features.CellShape()),\n",
    "                                  (\"HistogramFeatures\", features.HistogramFeatures()),\n",
    "                                  (\"Collocalization\", features.Collocalization()),\n",
    "                                  (\"HogFeatures\", features.HogFeatures())],\n",
    "                                n_jobs = -1)\n",
    "\n",
    "combined_features.fit([None,None])\n",
    "my_list = combined_features.transform([sample_image,sample_mask]) \n",
    "df_features = pd.DataFrame(index = metadata.index, columns=list_of_dict_to_dict(my_list).keys() )"
   ]
  },
  {
   "cell_type": "code",
   "execution_count": null,
   "id": "interested-mambo",
   "metadata": {},
   "outputs": [],
   "source": [
    "for i in tqdm(range(metadata.shape[0])):\n",
    "    h5_file =  h5py.File(metadata[\"file\"].iloc[i],\"r\")\n",
    "    image = h5_file.get(\"image\")[()]\n",
    "    mask = h5_file.get(\"mask\")[()]\n",
    "    label = h5_file.get(\"label\")[()]\n",
    "    h5_file.close()\n",
    "    features = combined_features.transform([image,mask])\n",
    "    features = list_of_dict_to_dict(features)\n",
    "    df_features.loc[i,:] = features\n",
    "    metadata.loc[i,\"label\"] = label"
   ]
  },
  {
   "cell_type": "code",
   "execution_count": null,
   "id": "forty-tenant",
   "metadata": {},
   "outputs": [],
   "source": [
    "df_features = df_features.fillna(0.)"
   ]
  },
  {
   "cell_type": "code",
   "execution_count": null,
   "id": "impossible-printer",
   "metadata": {},
   "outputs": [],
   "source": [
    "index_train , index_test = train_test_split(metadata.index, stratify = metadata[\"label\"])"
   ]
  },
  {
   "cell_type": "code",
   "execution_count": null,
   "id": "polar-weight",
   "metadata": {},
   "outputs": [],
   "source": [
    "pipeline = Pipeline(steps=[('MinMaxScaler', MinMaxScaler()), \n",
    "                           ('AutoFeatureSelection', AutoFeatureSelection(top_k = 20)),\n",
    "                           ('XGBClassifier', XGBClassifier(n_jobs = -1, eval_metric='logloss')) \n",
    "                          ],  verbose=True)\n",
    "pipeline.fit(df_features.loc[index_train,:],  metadata.loc[index_train, \"label\"])"
   ]
  },
  {
   "cell_type": "code",
   "execution_count": null,
   "id": "retained-poison",
   "metadata": {},
   "outputs": [],
   "source": [
    "selected_features = pipeline.steps[1][1].selected_features\n",
    "selected_feature_names = df_features.columns[selected_features]"
   ]
  },
  {
   "cell_type": "code",
   "execution_count": null,
   "id": "golden-bleeding",
   "metadata": {},
   "outputs": [],
   "source": [
    "classification_complete_report(pipeline, \n",
    "                               df_features.loc[index_test,:], \n",
    "                               metadata.loc[index_test, \"label\"])"
   ]
  },
  {
   "cell_type": "code",
   "execution_count": null,
   "id": "broken-reflection",
   "metadata": {},
   "outputs": [],
   "source": [
    "\n",
    "from sklearn.inspection import permutation_importance\n",
    "\n",
    "\n",
    "\n",
    "\n",
    "fig, (ax1, ax2) = plt.subplots(1, 2, figsize=(15, 8))\n",
    "\n",
    "tree_importance_sorted_idx = np.argsort(pipeline.steps[2][1].feature_importances_)[-10:]\n",
    "\n",
    "tree_indices = np.arange(0, 10) + 0.5\n",
    "\n",
    "ax1.barh(tree_indices, \n",
    "         pipeline.steps[2][1].feature_importances_[tree_importance_sorted_idx], \n",
    "         height=0.7, color  = \"grey\")\n",
    "ax1.set_yticklabels(df_features.columns[selected_features].values[tree_importance_sorted_idx])\n",
    "ax1.set_yticks(tree_indices)\n",
    "\n",
    "\n",
    "result = permutation_importance(pipeline, \n",
    "                                df_features.loc[index_test,:],  \n",
    "                                metadata.loc[index_test, \"label\"], n_repeats=10,\n",
    "                                random_state=42)\n",
    "perm_sorted_idx = result.importances_mean.argsort()[-10:]\n",
    "ax2.boxplot(result.importances[perm_sorted_idx].T, \n",
    "            vert=False,\n",
    "            labels=df_features.columns.values[perm_sorted_idx])\n",
    "\n",
    "fig.tight_layout()"
   ]
  },
  {
   "cell_type": "code",
   "execution_count": null,
   "id": "lined-knitting",
   "metadata": {},
   "outputs": [],
   "source": []
  },
  {
   "cell_type": "code",
   "execution_count": null,
   "id": "choice-reliance",
   "metadata": {},
   "outputs": [],
   "source": [
    "\n",
    "channel_importance_xgb = {\"Ch1\" : 0., \"Ch2\" : 0., \"Ch3\": 0.}\n",
    "\n",
    "for i,f in enumerate(selected_feature_names):\n",
    "    value = pipeline.steps[2][1].feature_importances_[i]\n",
    "    if \"Ch1\" in f:\n",
    "        channel_importance_xgb[\"Ch1\"] = channel_importance_xgb[\"Ch1\"] + value\n",
    "    elif \"Ch2\" in f:\n",
    "        channel_importance_xgb[\"Ch2\"] = channel_importance_xgb[\"Ch2\"] + value\n",
    "    elif \"Ch3\" in f:\n",
    "        channel_importance_xgb[\"Ch3\"] = channel_importance_xgb[\"Ch3\"] + value\n",
    "\n",
    "\n",
    "channel_importance_permutation = {\"Ch1\" : 0., \"Ch2\" : 0., \"Ch3\": 0.}\n",
    "\n",
    "for i,f in enumerate(df_features.columns):\n",
    "    value = result['importances_mean'][i]\n",
    "    if \"Ch1\" in f:\n",
    "        channel_importance_permutation[\"Ch1\"] = channel_importance_permutation[\"Ch1\"] + value\n",
    "    elif \"Ch2\" in f:\n",
    "        channel_importance_permutation[\"Ch2\"] = channel_importance_permutation[\"Ch2\"] + value\n",
    "    elif \"Ch3\" in f:\n",
    "        channel_importance_permutation[\"Ch3\"] = channel_importance_permutation[\"Ch3\"] + value\n"
   ]
  },
  {
   "cell_type": "code",
   "execution_count": null,
   "id": "aggressive-degree",
   "metadata": {},
   "outputs": [],
   "source": [
    "plt.bar([\"BF\", \"Darkfield\", \"PI\"], channel_importance_xgb.values())\n",
    "plt.title(\"Channel importance\")"
   ]
  },
  {
   "cell_type": "code",
   "execution_count": null,
   "id": "excited-profession",
   "metadata": {},
   "outputs": [],
   "source": [
    "plt.bar([\"BF\", \"Darkfield\", \"PI\"], channel_importance_permutation.values())\n",
    "plt.title(\"Channel importance\")"
   ]
  },
  {
   "cell_type": "code",
   "execution_count": null,
   "id": "complete-louis",
   "metadata": {},
   "outputs": [],
   "source": []
  },
  {
   "cell_type": "code",
   "execution_count": null,
   "id": "traditional-respect",
   "metadata": {},
   "outputs": [],
   "source": []
  }
 ],
 "metadata": {
  "kernelspec": {
   "display_name": "Python 3",
   "language": "python",
   "name": "python3"
  },
  "language_info": {
   "codemirror_mode": {
    "name": "ipython",
    "version": 3
   },
   "file_extension": ".py",
   "mimetype": "text/x-python",
   "name": "python",
   "nbconvert_exporter": "python",
   "pygments_lexer": "ipython3",
   "version": "3.8.10"
  }
 },
 "nbformat": 4,
 "nbformat_minor": 5
}
