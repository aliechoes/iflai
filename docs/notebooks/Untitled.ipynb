{
 "cells": [
  {
   "cell_type": "code",
   "execution_count": null,
   "metadata": {},
   "outputs": [],
   "source": [
    "import h5py \n",
    "import matplotlib.pyplot as plt\n",
    "from glob import glob\n",
    "import pandas as pd"
   ]
  },
  {
   "cell_type": "code",
   "execution_count": null,
   "metadata": {},
   "outputs": [],
   "source": [
    "metadata = pd.read_csv(\"/pstore/home/shetabs1/data/iflai/metadata.csv\")"
   ]
  },
  {
   "cell_type": "code",
   "execution_count": null,
   "metadata": {},
   "outputs": [],
   "source": [
    "metadata"
   ]
  },
  {
   "cell_type": "code",
   "execution_count": null,
   "metadata": {},
   "outputs": [],
   "source": [
    "indx = metadata.experiment == \"Experiment_3\"\n",
    "indx = indx & (metadata.donor == \"Donor_5\")\n",
    "indx = indx & (metadata.condition == \"DIG-TCB\")\n",
    "metadata.loc[indx,\"object_number\"].sort_values().head(10)"
   ]
  },
  {
   "cell_type": "code",
   "execution_count": null,
   "metadata": {},
   "outputs": [],
   "source": [
    "image = h5py.File(metadata.loc[1985241    , \"file\"],\"r\").get(\"image\")[()]\n",
    "\n",
    "fig,ax = plt.subplots(1,5, figsize = (20,5))\n",
    "\n",
    "ax[0].imshow(image[:,:,0], cmap = \"Greys\")\n",
    "\n",
    "ax[1].imshow(image[:,:,3], cmap = \"Oranges\")\n",
    "\n",
    "ax[2].imshow(image[:,:,4], cmap = \"Blues\")\n",
    "\n",
    "ax[3].imshow(image[:,:,5], cmap = \"Greens\")\n",
    "\n",
    "ax[4].imshow(image[:,:,6], cmap = \"Reds\")"
   ]
  },
  {
   "cell_type": "code",
   "execution_count": null,
   "metadata": {},
   "outputs": [],
   "source": []
  },
  {
   "cell_type": "code",
   "execution_count": null,
   "metadata": {},
   "outputs": [],
   "source": []
  }
 ],
 "metadata": {
  "kernelspec": {
   "display_name": "Python 3",
   "language": "python",
   "name": "python3"
  },
  "language_info": {
   "codemirror_mode": {
    "name": "ipython",
    "version": 3
   },
   "file_extension": ".py",
   "mimetype": "text/x-python",
   "name": "python",
   "nbconvert_exporter": "python",
   "pygments_lexer": "ipython3",
   "version": "3.8.3"
  }
 },
 "nbformat": 4,
 "nbformat_minor": 4
}
