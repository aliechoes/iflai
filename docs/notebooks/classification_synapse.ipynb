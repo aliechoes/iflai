{
 "cells": [
  {
   "cell_type": "code",
   "execution_count": 1,
   "metadata": {},
   "outputs": [
    {
     "name": "stdout",
     "output_type": "stream",
     "text": [
      "Defaulting to user installation because normal site-packages is not writeable\n",
      "Processing /pstore/home/shetabs1/code/iflai\n",
      "Requirement already satisfied: numpy in /pstore/home/shetabs1/.local/lib/python3.8/site-packages (from iflai==0.0.1) (1.21.1)\n",
      "Requirement already satisfied: pandas in /pstore/home/shetabs1/.local/lib/python3.8/site-packages (from iflai==0.0.1) (1.3.1)\n",
      "Requirement already satisfied: scikit-learn in /pstore/home/shetabs1/.local/lib/python3.8/site-packages (from iflai==0.0.1) (0.24.2)\n",
      "Requirement already satisfied: scikit-image in /pstore/home/shetabs1/.local/lib/python3.8/site-packages (from iflai==0.0.1) (0.18.2)\n",
      "Requirement already satisfied: xgboost in /pstore/home/shetabs1/.local/lib/python3.8/site-packages (from iflai==0.0.1) (1.4.2)\n",
      "Requirement already satisfied: torch in /pstore/home/shetabs1/.local/lib/python3.8/site-packages (from iflai==0.0.1) (1.9.0)\n",
      "Requirement already satisfied: torchvision in /pstore/home/shetabs1/.local/lib/python3.8/site-packages (from iflai==0.0.1) (0.10.0)\n",
      "Requirement already satisfied: pytz>=2017.3 in /pstore/home/shetabs1/.local/lib/python3.8/site-packages (from pandas->iflai==0.0.1) (2021.1)\n",
      "Requirement already satisfied: python-dateutil>=2.7.3 in /pstore/apps/jupyterlab/2.2.9-gompi-2018b-Python-3.8.3-2020.07/lib/python3.8/site-packages (from pandas->iflai==0.0.1) (2.8.1)\n",
      "Requirement already satisfied: six>=1.5 in /pstore/home/shetabs1/.local/lib/python3.8/site-packages (from python-dateutil>=2.7.3->pandas->iflai==0.0.1) (1.16.0)\n",
      "Requirement already satisfied: networkx>=2.0 in /pstore/home/shetabs1/.local/lib/python3.8/site-packages (from scikit-image->iflai==0.0.1) (2.6.2)\n",
      "Requirement already satisfied: scipy>=1.0.1 in /pstore/home/shetabs1/.local/lib/python3.8/site-packages (from scikit-image->iflai==0.0.1) (1.7.1)\n",
      "Requirement already satisfied: imageio>=2.3.0 in /pstore/home/shetabs1/.local/lib/python3.8/site-packages (from scikit-image->iflai==0.0.1) (2.9.0)\n",
      "Requirement already satisfied: PyWavelets>=1.1.1 in /pstore/home/shetabs1/.local/lib/python3.8/site-packages (from scikit-image->iflai==0.0.1) (1.1.1)\n",
      "Requirement already satisfied: pillow!=7.1.0,!=7.1.1,>=4.3.0 in /pstore/home/shetabs1/.local/lib/python3.8/site-packages (from scikit-image->iflai==0.0.1) (8.3.1)\n",
      "Requirement already satisfied: tifffile>=2019.7.26 in /pstore/home/shetabs1/.local/lib/python3.8/site-packages (from scikit-image->iflai==0.0.1) (2021.8.8)\n",
      "Requirement already satisfied: matplotlib!=3.0.0,>=2.0.0 in /pstore/home/shetabs1/.local/lib/python3.8/site-packages (from scikit-image->iflai==0.0.1) (3.4.2)\n",
      "Requirement already satisfied: kiwisolver>=1.0.1 in /pstore/home/shetabs1/.local/lib/python3.8/site-packages (from matplotlib!=3.0.0,>=2.0.0->scikit-image->iflai==0.0.1) (1.3.1)\n",
      "Requirement already satisfied: cycler>=0.10 in /pstore/home/shetabs1/.local/lib/python3.8/site-packages (from matplotlib!=3.0.0,>=2.0.0->scikit-image->iflai==0.0.1) (0.10.0)\n",
      "Requirement already satisfied: pyparsing>=2.2.1 in /pstore/home/shetabs1/.local/lib/python3.8/site-packages (from matplotlib!=3.0.0,>=2.0.0->scikit-image->iflai==0.0.1) (2.4.7)\n",
      "Requirement already satisfied: threadpoolctl>=2.0.0 in /pstore/home/shetabs1/.local/lib/python3.8/site-packages (from scikit-learn->iflai==0.0.1) (2.2.0)\n",
      "Requirement already satisfied: joblib>=0.11 in /pstore/home/shetabs1/.local/lib/python3.8/site-packages (from scikit-learn->iflai==0.0.1) (1.0.1)\n",
      "Requirement already satisfied: typing-extensions in /pstore/home/shetabs1/.local/lib/python3.8/site-packages (from torch->iflai==0.0.1) (3.10.0.0)\n",
      "Building wheels for collected packages: iflai\n",
      "  Building wheel for iflai (setup.py) ... \u001b[?25ldone\n",
      "\u001b[?25h  Created wheel for iflai: filename=iflai-0.0.1-py3-none-any.whl size=14094 sha256=b667ff5856acb62e6aca803c576121e0d6086d5d7f39c87b799879698d74214a\n",
      "  Stored in directory: /local/2128146/pip-ephem-wheel-cache-tvet8x3e/wheels/77/c9/46/be8aac478e8f67c427d0996a39b13c1213341ddb146b974964\n",
      "Successfully built iflai\n",
      "Installing collected packages: iflai\n",
      "  Attempting uninstall: iflai\n",
      "    Found existing installation: iflai 0.0.1\n",
      "    Uninstalling iflai-0.0.1:\n",
      "      Successfully uninstalled iflai-0.0.1\n",
      "Successfully installed iflai-0.0.1\n",
      "\u001b[33mWARNING: You are using pip version 20.3.3; however, version 21.2.3 is available.\n",
      "You should consider upgrading via the '/pstore/apps/Python/3.8.3-2020.07/bin/python -m pip install --upgrade pip' command.\u001b[0m\n"
     ]
    }
   ],
   "source": [
    "!pip install /pstore/home/shetabs1/code/iflai/"
   ]
  },
  {
   "cell_type": "code",
   "execution_count": 2,
   "metadata": {},
   "outputs": [],
   "source": [
    "import iflai\n",
    "import matplotlib.pyplot as plt\n",
    "import iflai.ml.features as features\n",
    "from iflai.ml.feature_selection import AutoFeatureSelection\n",
    "from iflai.ml.feature_extractor import AmnisData\n",
    "import numpy as np\n",
    "import pandas as pd\n",
    "import glob\n",
    "import warnings\n",
    "warnings.filterwarnings(\"ignore\")\n",
    "from tqdm import tqdm \n",
    "from sklearn.model_selection import train_test_split\n",
    "import h5py\n",
    "from sklearn.pipeline import Pipeline, FeatureUnion\n",
    "from sklearn.feature_extraction import DictVectorizer\n",
    "from iflai.utils import list_of_dict_to_dict\n",
    "from sklearn.preprocessing import MinMaxScaler \n",
    "from sklearn.ensemble import RandomForestClassifier\n",
    "from sklearn.model_selection import GridSearchCV\n",
    "from xgboost import XGBClassifier\n",
    "import seaborn as sns"
   ]
  },
  {
   "cell_type": "code",
   "execution_count": null,
   "metadata": {},
   "outputs": [],
   "source": []
  },
  {
   "cell_type": "code",
   "execution_count": 3,
   "metadata": {},
   "outputs": [],
   "source": [
    "from sklearn.metrics import (plot_confusion_matrix, \n",
    "                             matthews_corrcoef, \n",
    "                             classification_report,\n",
    "                             confusion_matrix, \n",
    "                             accuracy_score, \n",
    "                             balanced_accuracy_score, \n",
    "                             cohen_kappa_score, \n",
    "                             f1_score,  \n",
    "                             precision_score, recall_score)\n",
    "from statsmodels.stats.contingency_tables import mcnemar\n",
    "\n",
    "def classification_complete_report(estimator, X, y_true, plot = True ): \n",
    "    y_pred = estimator.predict(X)\n",
    "    print(classification_report(y_true, y_pred))\n",
    "    print(15*\"----\")\n",
    "    print(\"matthews correlation coeff: %.4f\" % (matthews_corrcoef(y_true, y_pred)) )\n",
    "    print(\"Cohen Kappa score: %.4f\" % (cohen_kappa_score(y_true, y_pred)) )\n",
    "    print(\"Accuracy: %.4f & balanced Accuracy: %.4f\" % (accuracy_score(y_true, y_pred), balanced_accuracy_score(y_true, y_pred)) )\n",
    "    print(\"macro F1 score: %.4f & micro F1 score: %.4f\" % (f1_score(y_true, y_pred, average = \"macro\"), f1_score(y_true, y_pred, average = \"micro\")) )\n",
    "    print(\"macro Precision score: %.4f & micro Precision score: %.4f\" % (precision_score(y_true, y_pred, average = \"macro\"), precision_score(y_true, y_pred, average = \"micro\")) )\n",
    "    print(\"macro Recall score: %.4f & micro Recall score: %.4f\" % (recall_score(y_true, y_pred, average = \"macro\"), recall_score(y_true, y_pred, average = \"micro\")) )\n",
    "    print(15*\"----\")\n",
    "    \n",
    "    if plot:\n",
    "        plot_confusion_matrix(estimator, X, y_true,cmap = \"Greys\", xticks_rotation='vertical')\n",
    "    "
   ]
  },
  {
   "cell_type": "code",
   "execution_count": 4,
   "metadata": {},
   "outputs": [],
   "source": [
    "data_path = \"/pstore/data/DS4/synapse_formation_full_data/\"\n",
    "\n",
    "feature_extractor = FeatureUnion([\n",
    "                                (\"MaskBasedFeatures\", features.MaskBasedFeatures()), \n",
    "                                (\"GLCMFeatures\", features.GLCMFeatures()),  \n",
    "                                (\"GradientRMS\", features.GradientRMS()),  \n",
    "                                (\"BackgroundMean\", features.BackgroundMean()),  \n",
    "                                (\"CellShape\", features.CellShape()),  \n",
    "                                (\"Collocalization\", features.Collocalization()),    \n",
    "                                (\"IntersectionProperties\", features.IntersectionProperties(channels = [4,5])),   \n",
    "                                (\"CenterOfCellsDistances\", features.CenterOfCellsDistances()), \n",
    "                                     ])"
   ]
  },
  {
   "cell_type": "code",
   "execution_count": 5,
   "metadata": {
    "scrolled": true
   },
   "outputs": [
    {
     "name": "stderr",
     "output_type": "stream",
     "text": [
      "100%|██████████| 1/1 [00:00<00:00, 52.91it/s]"
     ]
    },
    {
     "name": "stdout",
     "output_type": "stream",
     "text": [
      "Metadata prepration starts...\n",
      "Experiment_1 Donor_0 Not_Stimulated_Bcells\n"
     ]
    },
    {
     "name": "stderr",
     "output_type": "stream",
     "text": [
      "\n"
     ]
    },
    {
     "name": "stdout",
     "output_type": "stream",
     "text": [
      "Experiment_1 Donor_1 +SEA\n"
     ]
    },
    {
     "name": "stderr",
     "output_type": "stream",
     "text": [
      "100%|██████████| 1/1 [00:00<00:00, 933.73it/s]\n"
     ]
    },
    {
     "name": "stdout",
     "output_type": "stream",
     "text": [
      "Experiment_1 Donor_1 -SEA\n"
     ]
    },
    {
     "name": "stderr",
     "output_type": "stream",
     "text": [
      "100%|██████████| 1/1 [00:00<00:00, 919.00it/s]\n",
      "100%|██████████| 1/1 [00:00<00:00, 946.15it/s]"
     ]
    },
    {
     "name": "stdout",
     "output_type": "stream",
     "text": [
      "Experiment_1 Donor_1 Not_Stimulated_Tcells\n"
     ]
    },
    {
     "name": "stderr",
     "output_type": "stream",
     "text": [
      "\n"
     ]
    },
    {
     "name": "stdout",
     "output_type": "stream",
     "text": [
      "Experiment_1 Donor_2 +SEA\n"
     ]
    },
    {
     "name": "stderr",
     "output_type": "stream",
     "text": [
      "100%|██████████| 1/1 [00:00<00:00, 922.03it/s]\n"
     ]
    },
    {
     "name": "stdout",
     "output_type": "stream",
     "text": [
      "Experiment_1 Donor_2 -SEA\n"
     ]
    },
    {
     "name": "stderr",
     "output_type": "stream",
     "text": [
      "100%|██████████| 1/1 [00:00<00:00, 910.82it/s]\n",
      "100%|██████████| 1/1 [00:00<00:00, 701.27it/s]"
     ]
    },
    {
     "name": "stdout",
     "output_type": "stream",
     "text": [
      "Experiment_1 Donor_2 Not_Stimulated_Tcells\n"
     ]
    },
    {
     "name": "stderr",
     "output_type": "stream",
     "text": [
      "\n",
      "100%|██████████| 1/1 [00:00<00:00, 923.65it/s]"
     ]
    },
    {
     "name": "stdout",
     "output_type": "stream",
     "text": [
      "Experiment_2 Donor_0 Not_Stimulated_Bcells\n"
     ]
    },
    {
     "name": "stderr",
     "output_type": "stream",
     "text": [
      "\n"
     ]
    },
    {
     "name": "stdout",
     "output_type": "stream",
     "text": [
      "Experiment_2 Donor_1 +SEA\n"
     ]
    },
    {
     "name": "stderr",
     "output_type": "stream",
     "text": [
      "100%|██████████| 1/1 [00:00<00:00, 913.99it/s]\n"
     ]
    },
    {
     "name": "stdout",
     "output_type": "stream",
     "text": [
      "Experiment_2 Donor_1 -SEA\n"
     ]
    },
    {
     "name": "stderr",
     "output_type": "stream",
     "text": [
      "100%|██████████| 1/1 [00:00<00:00, 921.42it/s]\n",
      "100%|██████████| 1/1 [00:00<00:00, 885.62it/s]"
     ]
    },
    {
     "name": "stdout",
     "output_type": "stream",
     "text": [
      "Experiment_2 Donor_1 Not_Stimulated_Tcells\n"
     ]
    },
    {
     "name": "stderr",
     "output_type": "stream",
     "text": [
      "\n"
     ]
    },
    {
     "name": "stdout",
     "output_type": "stream",
     "text": [
      "Experiment_2 Donor_3 +SEA\n"
     ]
    },
    {
     "name": "stderr",
     "output_type": "stream",
     "text": [
      "100%|██████████| 1/1 [00:00<00:00, 662.50it/s]\n"
     ]
    },
    {
     "name": "stdout",
     "output_type": "stream",
     "text": [
      "Experiment_2 Donor_3 -SEA\n"
     ]
    },
    {
     "name": "stderr",
     "output_type": "stream",
     "text": [
      "100%|██████████| 1/1 [00:00<00:00, 924.67it/s]\n",
      "100%|██████████| 1/1 [00:00<00:00, 953.47it/s]"
     ]
    },
    {
     "name": "stdout",
     "output_type": "stream",
     "text": [
      "Experiment_2 Donor_3 Not_Stimulated_Tcells\n"
     ]
    },
    {
     "name": "stderr",
     "output_type": "stream",
     "text": [
      "\n"
     ]
    },
    {
     "name": "stdout",
     "output_type": "stream",
     "text": [
      "Experiment_2 Donor_4 +SEA\n"
     ]
    },
    {
     "name": "stderr",
     "output_type": "stream",
     "text": [
      "100%|██████████| 1/1 [00:00<00:00, 1062.93it/s]\n"
     ]
    },
    {
     "name": "stdout",
     "output_type": "stream",
     "text": [
      "Experiment_2 Donor_4 -SEA\n"
     ]
    },
    {
     "name": "stderr",
     "output_type": "stream",
     "text": [
      "100%|██████████| 1/1 [00:00<00:00, 908.45it/s]\n",
      "0it [00:00, ?it/s]\n",
      "100%|██████████| 1/1 [00:00<00:00, 975.42it/s]"
     ]
    },
    {
     "name": "stdout",
     "output_type": "stream",
     "text": [
      "Experiment_2 Donor_4 Not_Stimulated_Tcells\n",
      "Experiment_3 Donor_0 Not_Stimulated_Bcells\n"
     ]
    },
    {
     "name": "stderr",
     "output_type": "stream",
     "text": [
      "\n"
     ]
    },
    {
     "name": "stdout",
     "output_type": "stream",
     "text": [
      "Experiment_3 Donor_5 +SEA\n"
     ]
    },
    {
     "name": "stderr",
     "output_type": "stream",
     "text": [
      "100%|██████████| 1/1 [00:00<00:00, 662.50it/s]\n"
     ]
    },
    {
     "name": "stdout",
     "output_type": "stream",
     "text": [
      "Experiment_3 Donor_5 -SEA\n"
     ]
    },
    {
     "name": "stderr",
     "output_type": "stream",
     "text": [
      "100%|██████████| 1/1 [00:00<00:00, 1016.80it/s]\n",
      "100%|██████████| 1/1 [00:00<00:00, 900.65it/s]"
     ]
    },
    {
     "name": "stdout",
     "output_type": "stream",
     "text": [
      "Experiment_3 Donor_5 Not_Stimulated_Tcells\n"
     ]
    },
    {
     "name": "stderr",
     "output_type": "stream",
     "text": [
      "\n",
      "100%|██████████| 1/1 [00:00<00:00, 921.02it/s]"
     ]
    },
    {
     "name": "stdout",
     "output_type": "stream",
     "text": [
      "Experiment_3 Donor_6 +SEA\n"
     ]
    },
    {
     "name": "stderr",
     "output_type": "stream",
     "text": [
      "\n"
     ]
    },
    {
     "name": "stdout",
     "output_type": "stream",
     "text": [
      "Experiment_3 Donor_6 -SEA\n"
     ]
    },
    {
     "name": "stderr",
     "output_type": "stream",
     "text": [
      "100%|██████████| 1/1 [00:00<00:00, 928.56it/s]\n",
      "100%|██████████| 1/1 [00:00<00:00, 965.76it/s]"
     ]
    },
    {
     "name": "stdout",
     "output_type": "stream",
     "text": [
      "Experiment_3 Donor_6 Not_Stimulated_Tcells\n"
     ]
    },
    {
     "name": "stderr",
     "output_type": "stream",
     "text": [
      "\n"
     ]
    },
    {
     "name": "stdout",
     "output_type": "stream",
     "text": [
      "Experiment_3 Donor_7 +SEA\n"
     ]
    },
    {
     "name": "stderr",
     "output_type": "stream",
     "text": [
      "100%|██████████| 1/1 [00:00<00:00, 953.47it/s]\n"
     ]
    },
    {
     "name": "stdout",
     "output_type": "stream",
     "text": [
      "Experiment_3 Donor_7 -SEA\n"
     ]
    },
    {
     "name": "stderr",
     "output_type": "stream",
     "text": [
      "100%|██████████| 1/1 [00:00<00:00, 960.23it/s]\n",
      "100%|██████████| 1/1 [00:00<00:00, 1170.61it/s]\n",
      "0it [00:00, ?it/s]\n"
     ]
    },
    {
     "name": "stdout",
     "output_type": "stream",
     "text": [
      "Experiment_3 Donor_7 Not_Stimulated_Tcells\n",
      "Experiment_3 Donor_8 +SEA\n",
      "Experiment_3 Donor_8 -SEA\n"
     ]
    },
    {
     "name": "stderr",
     "output_type": "stream",
     "text": [
      "100%|██████████| 1/1 [00:00<00:00, 1089.43it/s]\n",
      "100%|██████████| 1/1 [00:00<00:00, 1246.45it/s]\n",
      "100%|██████████| 1/1 [00:00<00:00, 1097.41it/s]"
     ]
    },
    {
     "name": "stdout",
     "output_type": "stream",
     "text": [
      "Experiment_3 Donor_8 Not_Stimulated_Tcells\n",
      "Experiment_4 Donor_0 Not_Stimulated_Bcells\n"
     ]
    },
    {
     "name": "stderr",
     "output_type": "stream",
     "text": [
      "\n"
     ]
    },
    {
     "name": "stdout",
     "output_type": "stream",
     "text": [
      "Experiment_4 Donor_10 +SEA\n"
     ]
    },
    {
     "name": "stderr",
     "output_type": "stream",
     "text": [
      "100%|██████████| 1/1 [00:00<00:00, 733.14it/s]\n"
     ]
    },
    {
     "name": "stdout",
     "output_type": "stream",
     "text": [
      "Experiment_4 Donor_10 -SEA\n"
     ]
    },
    {
     "name": "stderr",
     "output_type": "stream",
     "text": [
      "100%|██████████| 1/1 [00:00<00:00, 1118.18it/s]\n",
      "100%|██████████| 1/1 [00:00<00:00, 1196.66it/s]\n"
     ]
    },
    {
     "name": "stdout",
     "output_type": "stream",
     "text": [
      "Experiment_4 Donor_10 Not_Stimulated_Tcells\n",
      "Experiment_4 Donor_9 +SEA\n"
     ]
    },
    {
     "name": "stderr",
     "output_type": "stream",
     "text": [
      "100%|██████████| 1/1 [00:00<00:00, 987.59it/s]\n"
     ]
    },
    {
     "name": "stdout",
     "output_type": "stream",
     "text": [
      "Experiment_4 Donor_9 -SEA\n"
     ]
    },
    {
     "name": "stderr",
     "output_type": "stream",
     "text": [
      "100%|██████████| 1/1 [00:00<00:00, 1123.57it/s]\n",
      "0it [00:00, ?it/s]"
     ]
    },
    {
     "name": "stdout",
     "output_type": "stream",
     "text": [
      "Experiment_4 Donor_9 Not_Stimulated_Tcell\n",
      "...metadata prepration ended.\n"
     ]
    },
    {
     "name": "stderr",
     "output_type": "stream",
     "text": [
      "\n"
     ]
    }
   ],
   "source": [
    "amnis_data = AmnisData(data_path, feature_extractor,sample_size = 1)"
   ]
  },
  {
   "cell_type": "code",
   "execution_count": 6,
   "metadata": {},
   "outputs": [],
   "source": [
    "#amnis_data.metadata.to_csv(\"metadata.csv\", index = False)"
   ]
  },
  {
   "cell_type": "code",
   "execution_count": 8,
   "metadata": {},
   "outputs": [],
   "source": [
    "amnis_data.metadata = pd.read_csv(\"metadata.csv\")\n",
    "\n",
    "indx = amnis_data.metadata[\"experiment\"] != \"Experiment_4\"\n",
    "indx = indx & (amnis_data.metadata[\"condition\"].isin([\"-SEA\",\"+SEA\"]))\n",
    "amnis_data.metadata = amnis_data.metadata.loc[indx,:].copy()"
   ]
  },
  {
   "cell_type": "code",
   "execution_count": null,
   "metadata": {},
   "outputs": [],
   "source": []
  },
  {
   "cell_type": "code",
   "execution_count": 9,
   "metadata": {},
   "outputs": [
    {
     "data": {
      "text/html": [
       "<div>\n",
       "<style scoped>\n",
       "    .dataframe tbody tr th:only-of-type {\n",
       "        vertical-align: middle;\n",
       "    }\n",
       "\n",
       "    .dataframe tbody tr th {\n",
       "        vertical-align: top;\n",
       "    }\n",
       "\n",
       "    .dataframe thead th {\n",
       "        text-align: right;\n",
       "    }\n",
       "</style>\n",
       "<table border=\"1\" class=\"dataframe\">\n",
       "  <thead>\n",
       "    <tr style=\"text-align: right;\">\n",
       "      <th></th>\n",
       "      <th>experiment</th>\n",
       "      <th>donor</th>\n",
       "      <th>condition</th>\n",
       "    </tr>\n",
       "  </thead>\n",
       "  <tbody>\n",
       "    <tr>\n",
       "      <th>0</th>\n",
       "      <td>Experiment_1</td>\n",
       "      <td>Donor_1</td>\n",
       "      <td>+SEA</td>\n",
       "    </tr>\n",
       "    <tr>\n",
       "      <th>1</th>\n",
       "      <td>Experiment_1</td>\n",
       "      <td>Donor_1</td>\n",
       "      <td>-SEA</td>\n",
       "    </tr>\n",
       "    <tr>\n",
       "      <th>2</th>\n",
       "      <td>Experiment_1</td>\n",
       "      <td>Donor_2</td>\n",
       "      <td>+SEA</td>\n",
       "    </tr>\n",
       "    <tr>\n",
       "      <th>3</th>\n",
       "      <td>Experiment_1</td>\n",
       "      <td>Donor_2</td>\n",
       "      <td>-SEA</td>\n",
       "    </tr>\n",
       "    <tr>\n",
       "      <th>4</th>\n",
       "      <td>Experiment_2</td>\n",
       "      <td>Donor_1</td>\n",
       "      <td>+SEA</td>\n",
       "    </tr>\n",
       "    <tr>\n",
       "      <th>5</th>\n",
       "      <td>Experiment_2</td>\n",
       "      <td>Donor_1</td>\n",
       "      <td>-SEA</td>\n",
       "    </tr>\n",
       "    <tr>\n",
       "      <th>6</th>\n",
       "      <td>Experiment_2</td>\n",
       "      <td>Donor_3</td>\n",
       "      <td>+SEA</td>\n",
       "    </tr>\n",
       "    <tr>\n",
       "      <th>7</th>\n",
       "      <td>Experiment_2</td>\n",
       "      <td>Donor_3</td>\n",
       "      <td>-SEA</td>\n",
       "    </tr>\n",
       "    <tr>\n",
       "      <th>8</th>\n",
       "      <td>Experiment_2</td>\n",
       "      <td>Donor_4</td>\n",
       "      <td>+SEA</td>\n",
       "    </tr>\n",
       "    <tr>\n",
       "      <th>9</th>\n",
       "      <td>Experiment_2</td>\n",
       "      <td>Donor_4</td>\n",
       "      <td>-SEA</td>\n",
       "    </tr>\n",
       "    <tr>\n",
       "      <th>10</th>\n",
       "      <td>Experiment_3</td>\n",
       "      <td>Donor_5</td>\n",
       "      <td>+SEA</td>\n",
       "    </tr>\n",
       "    <tr>\n",
       "      <th>11</th>\n",
       "      <td>Experiment_3</td>\n",
       "      <td>Donor_5</td>\n",
       "      <td>-SEA</td>\n",
       "    </tr>\n",
       "    <tr>\n",
       "      <th>12</th>\n",
       "      <td>Experiment_3</td>\n",
       "      <td>Donor_6</td>\n",
       "      <td>+SEA</td>\n",
       "    </tr>\n",
       "    <tr>\n",
       "      <th>13</th>\n",
       "      <td>Experiment_3</td>\n",
       "      <td>Donor_6</td>\n",
       "      <td>-SEA</td>\n",
       "    </tr>\n",
       "    <tr>\n",
       "      <th>14</th>\n",
       "      <td>Experiment_3</td>\n",
       "      <td>Donor_7</td>\n",
       "      <td>+SEA</td>\n",
       "    </tr>\n",
       "    <tr>\n",
       "      <th>15</th>\n",
       "      <td>Experiment_3</td>\n",
       "      <td>Donor_7</td>\n",
       "      <td>-SEA</td>\n",
       "    </tr>\n",
       "    <tr>\n",
       "      <th>16</th>\n",
       "      <td>Experiment_3</td>\n",
       "      <td>Donor_8</td>\n",
       "      <td>-SEA</td>\n",
       "    </tr>\n",
       "  </tbody>\n",
       "</table>\n",
       "</div>"
      ],
      "text/plain": [
       "      experiment    donor condition\n",
       "0   Experiment_1  Donor_1      +SEA\n",
       "1   Experiment_1  Donor_1      -SEA\n",
       "2   Experiment_1  Donor_2      +SEA\n",
       "3   Experiment_1  Donor_2      -SEA\n",
       "4   Experiment_2  Donor_1      +SEA\n",
       "5   Experiment_2  Donor_1      -SEA\n",
       "6   Experiment_2  Donor_3      +SEA\n",
       "7   Experiment_2  Donor_3      -SEA\n",
       "8   Experiment_2  Donor_4      +SEA\n",
       "9   Experiment_2  Donor_4      -SEA\n",
       "10  Experiment_3  Donor_5      +SEA\n",
       "11  Experiment_3  Donor_5      -SEA\n",
       "12  Experiment_3  Donor_6      +SEA\n",
       "13  Experiment_3  Donor_6      -SEA\n",
       "14  Experiment_3  Donor_7      +SEA\n",
       "15  Experiment_3  Donor_7      -SEA\n",
       "16  Experiment_3  Donor_8      -SEA"
      ]
     },
     "execution_count": 9,
     "metadata": {},
     "output_type": "execute_result"
    }
   ],
   "source": [
    "all_combinations = amnis_data.metadata.groupby([\"experiment\", \"donor\", \"condition\"]).size().reset_index().iloc[:,:-1]\n",
    "all_combinations"
   ]
  },
  {
   "cell_type": "code",
   "execution_count": 10,
   "metadata": {},
   "outputs": [
    {
     "name": "stderr",
     "output_type": "stream",
     "text": [
      "100%|██████████| 17/17 [00:02<00:00,  6.40it/s]\n"
     ]
    }
   ],
   "source": [
    "k = 10000\n",
    "\n",
    "indx = amnis_data.metadata[\"set\"] == \"labeled\"\n",
    "for i in tqdm(range(len(all_combinations)), position=0, leave=True):\n",
    "    indx_comb = (amnis_data.metadata[\"experiment\"] == all_combinations.loc[i,\"experiment\"])\n",
    "    indx_comb = indx_comb & (amnis_data.metadata[\"donor\"] == all_combinations.loc[i,\"donor\"])\n",
    "    indx_comb = indx_comb & (amnis_data.metadata[\"condition\"] == all_combinations.loc[i,\"condition\"])\n",
    "    indx_comb = indx_comb[indx_comb].sample(k).index.tolist()\n",
    "    indx[indx_comb] = True\n",
    "\n",
    "amnis_data.metadata = amnis_data.metadata.loc[indx,:].reset_index(drop = True).copy()"
   ]
  },
  {
   "cell_type": "code",
   "execution_count": null,
   "metadata": {},
   "outputs": [
    {
     "name": "stderr",
     "output_type": "stream",
     "text": [
      "  1%|          | 960/176150 [01:46<5:39:11,  8.61it/s]"
     ]
    }
   ],
   "source": [
    "amnis_data.extract_features_for_all_samples()"
   ]
  },
  {
   "cell_type": "code",
   "execution_count": 12,
   "metadata": {},
   "outputs": [],
   "source": [
    "## start here"
   ]
  },
  {
   "cell_type": "code",
   "execution_count": null,
   "metadata": {},
   "outputs": [],
   "source": []
  },
  {
   "cell_type": "code",
   "execution_count": 13,
   "metadata": {},
   "outputs": [],
   "source": [
    "amnis_data.df_features = amnis_data.df_features.fillna(0.)\n",
    "amnis_data.df_features = amnis_data.df_features.loc[:, amnis_data.df_features.std() > 0.]"
   ]
  },
  {
   "cell_type": "code",
   "execution_count": 18,
   "metadata": {},
   "outputs": [],
   "source": [
    "column_dict_rename = dict()\n",
    "\n",
    "channel_names = {   \n",
    "         \"Ch1\": \"BF\",\n",
    "         \"Ch2\": \"Antibody\",\n",
    "         \"Ch3\": \"CD18\",\n",
    "         \"Ch4\": \"F-Actin\",\n",
    "         \"Ch5\": \"MHCII\",\n",
    "         \"Ch6\": \"CD3\",\n",
    "         \"Ch7\": \"P-CD3zeta\",\n",
    "         \"Ch8\": \"Live-Dead\"}\n",
    "\n",
    "for col in amnis_data.df_features.columns:\n",
    "    new_col = col\n",
    "    for ch in channel_names:\n",
    "        new_col = new_col.replace(ch,channel_names[ch] )\n",
    "    column_dict_rename[col] = new_col\n",
    "    \n",
    "amnis_data.df_features = amnis_data.df_features.rename(columns=column_dict_rename).copy()"
   ]
  },
  {
   "cell_type": "code",
   "execution_count": 19,
   "metadata": {},
   "outputs": [],
   "source": [
    "amnis_data.metadata.to_csv(\"metadata_subset.csv\", index = False)\n",
    "amnis_data.df_features.to_csv(\"df_features.csv\", index = False)"
   ]
  },
  {
   "cell_type": "code",
   "execution_count": 20,
   "metadata": {},
   "outputs": [
    {
     "data": {
      "text/plain": [
       "1.970061728"
      ]
     },
     "execution_count": 20,
     "metadata": {},
     "output_type": "execute_result"
    }
   ],
   "source": [
    "amnis_data.df_features.memory_usage(index=True).sum()/1e9"
   ]
  },
  {
   "cell_type": "code",
   "execution_count": null,
   "metadata": {},
   "outputs": [],
   "source": []
  }
 ],
 "metadata": {
  "kernelspec": {
   "display_name": "Python 3",
   "language": "python",
   "name": "python3"
  },
  "language_info": {
   "codemirror_mode": {
    "name": "ipython",
    "version": 3
   },
   "file_extension": ".py",
   "mimetype": "text/x-python",
   "name": "python",
   "nbconvert_exporter": "python",
   "pygments_lexer": "ipython3",
   "version": "3.8.3"
  }
 },
 "nbformat": 4,
 "nbformat_minor": 5
}
