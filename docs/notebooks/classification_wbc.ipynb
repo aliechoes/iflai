{
 "cells": [
  {
   "cell_type": "code",
   "execution_count": 1,
   "metadata": {},
   "outputs": [
    {
     "name": "stdout",
     "output_type": "stream",
     "text": [
      "Defaulting to user installation because normal site-packages is not writeable\n",
      "Processing /pstore/home/shetabs1/code/iflai\n",
      "Requirement already satisfied: numpy in /pstore/home/shetabs1/.local/lib/python3.8/site-packages (from iflai==0.0.1) (1.21.1)\n",
      "Requirement already satisfied: pandas in /pstore/home/shetabs1/.local/lib/python3.8/site-packages (from iflai==0.0.1) (1.3.1)\n",
      "Requirement already satisfied: scikit-learn in /pstore/home/shetabs1/.local/lib/python3.8/site-packages (from iflai==0.0.1) (0.24.2)\n",
      "Requirement already satisfied: scikit-image in /pstore/home/shetabs1/.local/lib/python3.8/site-packages (from iflai==0.0.1) (0.18.2)\n",
      "Requirement already satisfied: xgboost in /pstore/home/shetabs1/.local/lib/python3.8/site-packages (from iflai==0.0.1) (1.4.2)\n",
      "Requirement already satisfied: torch in /pstore/home/shetabs1/.local/lib/python3.8/site-packages (from iflai==0.0.1) (1.9.0)\n",
      "Requirement already satisfied: torchvision in /pstore/home/shetabs1/.local/lib/python3.8/site-packages (from iflai==0.0.1) (0.10.0)\n",
      "Requirement already satisfied: python-dateutil>=2.7.3 in /pstore/apps/jupyterlab/2.2.9-gompi-2018b-Python-3.8.3-2020.07/lib/python3.8/site-packages (from pandas->iflai==0.0.1) (2.8.1)\n",
      "Requirement already satisfied: pytz>=2017.3 in /pstore/home/shetabs1/.local/lib/python3.8/site-packages (from pandas->iflai==0.0.1) (2021.1)\n",
      "Requirement already satisfied: six>=1.5 in /pstore/home/shetabs1/.local/lib/python3.8/site-packages (from python-dateutil>=2.7.3->pandas->iflai==0.0.1) (1.16.0)\n",
      "Requirement already satisfied: pillow!=7.1.0,!=7.1.1,>=4.3.0 in /pstore/home/shetabs1/.local/lib/python3.8/site-packages (from scikit-image->iflai==0.0.1) (8.3.1)\n",
      "Requirement already satisfied: scipy>=1.0.1 in /pstore/home/shetabs1/.local/lib/python3.8/site-packages (from scikit-image->iflai==0.0.1) (1.7.1)\n",
      "Requirement already satisfied: tifffile>=2019.7.26 in /pstore/home/shetabs1/.local/lib/python3.8/site-packages (from scikit-image->iflai==0.0.1) (2021.8.8)\n",
      "Requirement already satisfied: PyWavelets>=1.1.1 in /pstore/home/shetabs1/.local/lib/python3.8/site-packages (from scikit-image->iflai==0.0.1) (1.1.1)\n",
      "Requirement already satisfied: networkx>=2.0 in /pstore/home/shetabs1/.local/lib/python3.8/site-packages (from scikit-image->iflai==0.0.1) (2.6.2)\n",
      "Requirement already satisfied: matplotlib!=3.0.0,>=2.0.0 in /pstore/home/shetabs1/.local/lib/python3.8/site-packages (from scikit-image->iflai==0.0.1) (3.4.2)\n",
      "Requirement already satisfied: imageio>=2.3.0 in /pstore/home/shetabs1/.local/lib/python3.8/site-packages (from scikit-image->iflai==0.0.1) (2.9.0)\n",
      "Requirement already satisfied: cycler>=0.10 in /pstore/home/shetabs1/.local/lib/python3.8/site-packages (from matplotlib!=3.0.0,>=2.0.0->scikit-image->iflai==0.0.1) (0.10.0)\n",
      "Requirement already satisfied: kiwisolver>=1.0.1 in /pstore/home/shetabs1/.local/lib/python3.8/site-packages (from matplotlib!=3.0.0,>=2.0.0->scikit-image->iflai==0.0.1) (1.3.1)\n",
      "Requirement already satisfied: pyparsing>=2.2.1 in /pstore/home/shetabs1/.local/lib/python3.8/site-packages (from matplotlib!=3.0.0,>=2.0.0->scikit-image->iflai==0.0.1) (2.4.7)\n",
      "Requirement already satisfied: threadpoolctl>=2.0.0 in /pstore/home/shetabs1/.local/lib/python3.8/site-packages (from scikit-learn->iflai==0.0.1) (2.2.0)\n",
      "Requirement already satisfied: joblib>=0.11 in /pstore/home/shetabs1/.local/lib/python3.8/site-packages (from scikit-learn->iflai==0.0.1) (1.0.1)\n",
      "Requirement already satisfied: typing-extensions in /pstore/home/shetabs1/.local/lib/python3.8/site-packages (from torch->iflai==0.0.1) (3.10.0.0)\n",
      "Building wheels for collected packages: iflai\n",
      "  Building wheel for iflai (setup.py) ... \u001b[?25ldone\n",
      "\u001b[?25h  Created wheel for iflai: filename=iflai-0.0.1-py3-none-any.whl size=14446 sha256=97730648a277c91f2cd5ee977dd8bfc99e3be78b039e239d8ce59812d17d0a64\n",
      "  Stored in directory: /local/2128146/pip-ephem-wheel-cache-i8xc6ss9/wheels/77/c9/46/be8aac478e8f67c427d0996a39b13c1213341ddb146b974964\n",
      "Successfully built iflai\n",
      "Installing collected packages: iflai\n",
      "  Attempting uninstall: iflai\n",
      "    Found existing installation: iflai 0.0.1\n",
      "    Uninstalling iflai-0.0.1:\n",
      "      Successfully uninstalled iflai-0.0.1\n",
      "Successfully installed iflai-0.0.1\n",
      "\u001b[33mWARNING: You are using pip version 20.3.3; however, version 21.2.3 is available.\n",
      "You should consider upgrading via the '/pstore/apps/Python/3.8.3-2020.07/bin/python -m pip install --upgrade pip' command.\u001b[0m\n"
     ]
    }
   ],
   "source": [
    "!pip install /pstore/home/shetabs1/code/iflai/"
   ]
  },
  {
   "cell_type": "code",
   "execution_count": 37,
   "metadata": {},
   "outputs": [],
   "source": [
    "import iflai\n",
    "import matplotlib.pyplot as plt\n",
    "import iflai.ml.features as features\n",
    "from iflai.ml.feature_selection import AutoFeatureSelection\n",
    "from iflai.ml.feature_extractor import AmnisData\n",
    "from iflai.ml.segmentation import segment_all_channels\n",
    "import numpy as np\n",
    "import pandas as pd\n",
    "import glob\n",
    "import warnings\n",
    "warnings.filterwarnings(\"ignore\")\n",
    "from tqdm import tqdm \n",
    "from sklearn.model_selection import train_test_split\n",
    "import h5py\n",
    "from sklearn.pipeline import  FeatureUnion\n",
    "from sklearn.feature_extraction import DictVectorizer\n",
    "from iflai.utils import list_of_dict_to_dict\n",
    "from sklearn.preprocessing import MinMaxScaler \n",
    "from sklearn.ensemble import RandomForestClassifier\n",
    "from sklearn.model_selection import GridSearchCV\n",
    "from xgboost import XGBClassifier\n",
    "import seaborn as sns\n"
   ]
  },
  {
   "cell_type": "code",
   "execution_count": null,
   "metadata": {},
   "outputs": [],
   "source": []
  },
  {
   "cell_type": "code",
   "execution_count": 41,
   "metadata": {},
   "outputs": [],
   "source": [
    "from sklearn.metrics import (plot_confusion_matrix, \n",
    "                             matthews_corrcoef, \n",
    "                             classification_report,\n",
    "                             confusion_matrix, \n",
    "                             accuracy_score, \n",
    "                             balanced_accuracy_score, \n",
    "                             cohen_kappa_score, \n",
    "                             f1_score,  \n",
    "                             precision_score, recall_score)\n",
    "from imblearn.metrics import classification_report_imbalanced\n",
    "\n",
    "def classification_complete_report(estimator, X, y_true, plot = True ): \n",
    "    y_pred = estimator.predict(X)\n",
    "    print(classification_report(y_true, y_pred))\n",
    "    print(classification_report_imbalanced(y_true, y_pred))\n",
    "    print(15*\"----\")\n",
    "    print(\"matthews correlation coeff: %.4f\" % (matthews_corrcoef(y_true, y_pred)) )\n",
    "    print(\"Cohen Kappa score: %.4f\" % (cohen_kappa_score(y_true, y_pred)) )\n",
    "    print(\"Cohen Kappa score: %.4f\" % (cohen_kappa_score(y_true, y_pred)) )\n",
    "    print(\"Accuracy: %.4f & balanced Accuracy: %.4f\" % (accuracy_score(y_true, y_pred), balanced_accuracy_score(y_true, y_pred)) )\n",
    "    print(\"macro F1 score: %.4f & micro F1 score: %.4f\" % (f1_score(y_true, y_pred, average = \"macro\"), f1_score(y_true, y_pred, average = \"micro\")) )\n",
    "    print(\"macro Precision score: %.4f & micro Precision score: %.4f\" % (precision_score(y_true, y_pred, average = \"macro\"), precision_score(y_true, y_pred, average = \"micro\")) )\n",
    "    print(\"macro Recall score: %.4f & micro Recall score: %.4f\" % (recall_score(y_true, y_pred, average = \"macro\"), recall_score(y_true, y_pred, average = \"micro\")) )\n",
    "    print(15*\"----\")\n",
    "    \n",
    "    if plot:\n",
    "        plot_confusion_matrix(estimator, X, y_true,cmap = \"Greys\", xticks_rotation='vertical')\n",
    "    "
   ]
  },
  {
   "cell_type": "code",
   "execution_count": 4,
   "metadata": {},
   "outputs": [],
   "source": [
    "data_path = \"/pstore/data/DS4/White_blood_cell_dataset/\"\n",
    "\n",
    "feature_extractor = FeatureUnion([\n",
    "                                (\"MaskBasedFeatures\", features.MaskBasedFeatures()), \n",
    "                                (\"GLCMFeatures\", features.GLCMFeatures()),  \n",
    "                                (\"GradientRMS\", features.GradientRMS()),  \n",
    "                                (\"BackgroundMean\", features.BackgroundMean())\n",
    "                                     ],\n",
    "                                n_jobs = -1)"
   ]
  },
  {
   "cell_type": "code",
   "execution_count": null,
   "metadata": {},
   "outputs": [],
   "source": []
  },
  {
   "cell_type": "code",
   "execution_count": 5,
   "metadata": {
    "scrolled": true
   },
   "outputs": [
    {
     "name": "stderr",
     "output_type": "stream",
     "text": [
      "  0%|          | 0/31280 [00:00<?, ?it/s]"
     ]
    },
    {
     "name": "stdout",
     "output_type": "stream",
     "text": [
      "CPU times: user 4 µs, sys: 5 µs, total: 9 µs\n",
      "Wall time: 16 µs\n",
      "Metadata prepration starts...\n",
      "Experiment_1 Donor_1 condition_1\n"
     ]
    },
    {
     "name": "stderr",
     "output_type": "stream",
     "text": [
      "100%|██████████| 31280/31280 [02:15<00:00, 231.25it/s]\n"
     ]
    },
    {
     "name": "stdout",
     "output_type": "stream",
     "text": [
      "...metadata prepration ended.\n"
     ]
    }
   ],
   "source": [
    "%time\n",
    "\n",
    "amnis_data = AmnisData(data_path, feature_extractor)"
   ]
  },
  {
   "cell_type": "code",
   "execution_count": null,
   "metadata": {},
   "outputs": [],
   "source": []
  },
  {
   "cell_type": "code",
   "execution_count": 6,
   "metadata": {},
   "outputs": [
    {
     "data": {
      "text/html": [
       "<div>\n",
       "<style scoped>\n",
       "    .dataframe tbody tr th:only-of-type {\n",
       "        vertical-align: middle;\n",
       "    }\n",
       "\n",
       "    .dataframe tbody tr th {\n",
       "        vertical-align: top;\n",
       "    }\n",
       "\n",
       "    .dataframe thead th {\n",
       "        text-align: right;\n",
       "    }\n",
       "</style>\n",
       "<table border=\"1\" class=\"dataframe\">\n",
       "  <thead>\n",
       "    <tr style=\"text-align: right;\">\n",
       "      <th></th>\n",
       "      <th>file</th>\n",
       "      <th>experiment</th>\n",
       "      <th>donor</th>\n",
       "      <th>condition</th>\n",
       "      <th>object_number</th>\n",
       "      <th>set</th>\n",
       "      <th>label</th>\n",
       "    </tr>\n",
       "  </thead>\n",
       "  <tbody>\n",
       "    <tr>\n",
       "      <th>0</th>\n",
       "      <td>/pstore/data/DS4/White_blood_cell_dataset/Expe...</td>\n",
       "      <td>Experiment_1</td>\n",
       "      <td>Donor_1</td>\n",
       "      <td>condition_1</td>\n",
       "      <td>26659</td>\n",
       "      <td>labeled</td>\n",
       "      <td>CD15+ neutrophil</td>\n",
       "    </tr>\n",
       "    <tr>\n",
       "      <th>1</th>\n",
       "      <td>/pstore/data/DS4/White_blood_cell_dataset/Expe...</td>\n",
       "      <td>Experiment_1</td>\n",
       "      <td>Donor_1</td>\n",
       "      <td>condition_1</td>\n",
       "      <td>30716</td>\n",
       "      <td>labeled</td>\n",
       "      <td>CD15+ neutrophil</td>\n",
       "    </tr>\n",
       "    <tr>\n",
       "      <th>2</th>\n",
       "      <td>/pstore/data/DS4/White_blood_cell_dataset/Expe...</td>\n",
       "      <td>Experiment_1</td>\n",
       "      <td>Donor_1</td>\n",
       "      <td>condition_1</td>\n",
       "      <td>30519</td>\n",
       "      <td>labeled</td>\n",
       "      <td>CD14+ monocyte</td>\n",
       "    </tr>\n",
       "    <tr>\n",
       "      <th>3</th>\n",
       "      <td>/pstore/data/DS4/White_blood_cell_dataset/Expe...</td>\n",
       "      <td>Experiment_1</td>\n",
       "      <td>Donor_1</td>\n",
       "      <td>condition_1</td>\n",
       "      <td>822</td>\n",
       "      <td>labeled</td>\n",
       "      <td>CD15+ neutrophil</td>\n",
       "    </tr>\n",
       "    <tr>\n",
       "      <th>4</th>\n",
       "      <td>/pstore/data/DS4/White_blood_cell_dataset/Expe...</td>\n",
       "      <td>Experiment_1</td>\n",
       "      <td>Donor_1</td>\n",
       "      <td>condition_1</td>\n",
       "      <td>17483</td>\n",
       "      <td>labeled</td>\n",
       "      <td>CD15+ neutrophil</td>\n",
       "    </tr>\n",
       "    <tr>\n",
       "      <th>...</th>\n",
       "      <td>...</td>\n",
       "      <td>...</td>\n",
       "      <td>...</td>\n",
       "      <td>...</td>\n",
       "      <td>...</td>\n",
       "      <td>...</td>\n",
       "      <td>...</td>\n",
       "    </tr>\n",
       "    <tr>\n",
       "      <th>31275</th>\n",
       "      <td>/pstore/data/DS4/White_blood_cell_dataset/Expe...</td>\n",
       "      <td>Experiment_1</td>\n",
       "      <td>Donor_1</td>\n",
       "      <td>condition_1</td>\n",
       "      <td>25994</td>\n",
       "      <td>labeled</td>\n",
       "      <td>CD15+ neutrophil</td>\n",
       "    </tr>\n",
       "    <tr>\n",
       "      <th>31276</th>\n",
       "      <td>/pstore/data/DS4/White_blood_cell_dataset/Expe...</td>\n",
       "      <td>Experiment_1</td>\n",
       "      <td>Donor_1</td>\n",
       "      <td>condition_1</td>\n",
       "      <td>3211</td>\n",
       "      <td>labeled</td>\n",
       "      <td>CD8+ T</td>\n",
       "    </tr>\n",
       "    <tr>\n",
       "      <th>31277</th>\n",
       "      <td>/pstore/data/DS4/White_blood_cell_dataset/Expe...</td>\n",
       "      <td>Experiment_1</td>\n",
       "      <td>Donor_1</td>\n",
       "      <td>condition_1</td>\n",
       "      <td>29508</td>\n",
       "      <td>labeled</td>\n",
       "      <td>CD14+ monocyte</td>\n",
       "    </tr>\n",
       "    <tr>\n",
       "      <th>31278</th>\n",
       "      <td>/pstore/data/DS4/White_blood_cell_dataset/Expe...</td>\n",
       "      <td>Experiment_1</td>\n",
       "      <td>Donor_1</td>\n",
       "      <td>condition_1</td>\n",
       "      <td>23111</td>\n",
       "      <td>labeled</td>\n",
       "      <td>CD4+ T</td>\n",
       "    </tr>\n",
       "    <tr>\n",
       "      <th>31279</th>\n",
       "      <td>/pstore/data/DS4/White_blood_cell_dataset/Expe...</td>\n",
       "      <td>Experiment_1</td>\n",
       "      <td>Donor_1</td>\n",
       "      <td>condition_1</td>\n",
       "      <td>3500</td>\n",
       "      <td>labeled</td>\n",
       "      <td>CD4+ T</td>\n",
       "    </tr>\n",
       "  </tbody>\n",
       "</table>\n",
       "<p>31280 rows × 7 columns</p>\n",
       "</div>"
      ],
      "text/plain": [
       "                                                    file    experiment  \\\n",
       "0      /pstore/data/DS4/White_blood_cell_dataset/Expe...  Experiment_1   \n",
       "1      /pstore/data/DS4/White_blood_cell_dataset/Expe...  Experiment_1   \n",
       "2      /pstore/data/DS4/White_blood_cell_dataset/Expe...  Experiment_1   \n",
       "3      /pstore/data/DS4/White_blood_cell_dataset/Expe...  Experiment_1   \n",
       "4      /pstore/data/DS4/White_blood_cell_dataset/Expe...  Experiment_1   \n",
       "...                                                  ...           ...   \n",
       "31275  /pstore/data/DS4/White_blood_cell_dataset/Expe...  Experiment_1   \n",
       "31276  /pstore/data/DS4/White_blood_cell_dataset/Expe...  Experiment_1   \n",
       "31277  /pstore/data/DS4/White_blood_cell_dataset/Expe...  Experiment_1   \n",
       "31278  /pstore/data/DS4/White_blood_cell_dataset/Expe...  Experiment_1   \n",
       "31279  /pstore/data/DS4/White_blood_cell_dataset/Expe...  Experiment_1   \n",
       "\n",
       "         donor    condition object_number      set             label  \n",
       "0      Donor_1  condition_1         26659  labeled  CD15+ neutrophil  \n",
       "1      Donor_1  condition_1         30716  labeled  CD15+ neutrophil  \n",
       "2      Donor_1  condition_1         30519  labeled    CD14+ monocyte  \n",
       "3      Donor_1  condition_1           822  labeled  CD15+ neutrophil  \n",
       "4      Donor_1  condition_1         17483  labeled  CD15+ neutrophil  \n",
       "...        ...          ...           ...      ...               ...  \n",
       "31275  Donor_1  condition_1         25994  labeled  CD15+ neutrophil  \n",
       "31276  Donor_1  condition_1          3211  labeled            CD8+ T  \n",
       "31277  Donor_1  condition_1         29508  labeled    CD14+ monocyte  \n",
       "31278  Donor_1  condition_1         23111  labeled            CD4+ T  \n",
       "31279  Donor_1  condition_1          3500  labeled            CD4+ T  \n",
       "\n",
       "[31280 rows x 7 columns]"
      ]
     },
     "execution_count": 6,
     "metadata": {},
     "output_type": "execute_result"
    }
   ],
   "source": [
    "amnis_data.metadata"
   ]
  },
  {
   "cell_type": "code",
   "execution_count": 7,
   "metadata": {},
   "outputs": [
    {
     "name": "stderr",
     "output_type": "stream",
     "text": [
      "100%|██████████| 31280/31280 [19:00<00:00, 27.43it/s]\n"
     ]
    }
   ],
   "source": [
    "amnis_data.extract_features_for_all_samples()"
   ]
  },
  {
   "cell_type": "code",
   "execution_count": null,
   "metadata": {},
   "outputs": [],
   "source": []
  },
  {
   "cell_type": "code",
   "execution_count": null,
   "metadata": {},
   "outputs": [],
   "source": []
  },
  {
   "cell_type": "code",
   "execution_count": 8,
   "metadata": {},
   "outputs": [],
   "source": [
    "amnis_data.df_features = amnis_data.df_features.fillna(0.)\n",
    "amnis_data.df_features = amnis_data.df_features.loc[:, amnis_data.df_features.std() > 0.]"
   ]
  },
  {
   "cell_type": "code",
   "execution_count": 23,
   "metadata": {},
   "outputs": [],
   "source": [
    "indx = amnis_data.metadata[\"label\"] != \"unknown\"\n",
    "amnis_data.metadata = amnis_data.metadata.loc[indx,:]\n",
    "amnis_data.df_features = amnis_data.df_features.loc[indx,:]"
   ]
  },
  {
   "cell_type": "code",
   "execution_count": 24,
   "metadata": {},
   "outputs": [
    {
     "data": {
      "text/plain": [
       "0.115416912"
      ]
     },
     "execution_count": 24,
     "metadata": {},
     "output_type": "execute_result"
    }
   ],
   "source": [
    "amnis_data.df_features.memory_usage(index=True).sum()/1e9"
   ]
  },
  {
   "cell_type": "code",
   "execution_count": 25,
   "metadata": {},
   "outputs": [],
   "source": [
    "index_train , index_test = train_test_split(amnis_data.metadata.index, \n",
    "                                            stratify = amnis_data.metadata[\"label\"])"
   ]
  },
  {
   "cell_type": "code",
   "execution_count": 26,
   "metadata": {},
   "outputs": [],
   "source": [
    "amnis_data.df_features = amnis_data.df_features.fillna(0.)"
   ]
  },
  {
   "cell_type": "code",
   "execution_count": 45,
   "metadata": {},
   "outputs": [
    {
     "name": "stdout",
     "output_type": "stream",
     "text": [
      "[Pipeline] ...... (step 1 of 4) Processing MinMaxScaler, total=   0.2s\n",
      "Step 1: drop highly correlated features\n",
      "From 480 initial features Selected (correlated): 478\n",
      "Step 2: wrapper methods\n",
      "Calculating SVC\n",
      "Calculating random forest\n",
      "Calculating l1 logistic regression\n",
      "Calculating l2 logistic\n",
      "Calculating xgb\n",
      "From 480 initial features Selected (multicolinear): 95\n",
      "Step 3: clustering over correlation of features\n",
      "From 480 initial features Selected (uncorrelated): 26\n",
      "[Pipeline]  (step 2 of 4) Processing AutoFeatureSelection, total= 2.4min\n",
      "[Pipeline] ............. (step 3 of 4) Processing SMOTE, total=   0.6s\n",
      "[Pipeline]  (step 4 of 4) Processing RandomForestClassifier, total=   2.9s\n"
     ]
    },
    {
     "data": {
      "text/plain": [
       "Pipeline(steps=[('MinMaxScaler', MinMaxScaler()),\n",
       "                ('AutoFeatureSelection',\n",
       "                 AutoFeatureSelection(top_k=10, verbose=True)),\n",
       "                ('SMOTE', SMOTE()),\n",
       "                ('RandomForestClassifier', RandomForestClassifier(n_jobs=-1))],\n",
       "         verbose=True)"
      ]
     },
     "execution_count": 45,
     "metadata": {},
     "output_type": "execute_result"
    }
   ],
   "source": [
    "from sklearn.model_selection import GridSearchCV\n",
    "from imblearn.over_sampling import RandomOverSampler,ADASYN, SMOTE\n",
    "from imblearn.pipeline import Pipeline\n",
    "\n",
    "pipeline = Pipeline( steps = [\n",
    "            (\"MinMaxScaler\",MinMaxScaler()),\n",
    "            (\"AutoFeatureSelection\",AutoFeatureSelection(top_k = 10,verbose=True)),\n",
    "            (\"SMOTE\",SMOTE()),\n",
    "            (\"RandomForestClassifier\",RandomForestClassifier(n_jobs = -1 ) )\n",
    "] ,verbose=True )\n",
    "                            \n",
    "pipeline.fit(amnis_data.df_features.loc[index_train,:],  \n",
    "             amnis_data.metadata.loc[index_train, \"label\"])"
   ]
  },
  {
   "cell_type": "code",
   "execution_count": 46,
   "metadata": {},
   "outputs": [],
   "source": [
    "selected_features = pipeline.steps[1][1].selected_features\n",
    "selected_feature_names = amnis_data.df_features.columns[selected_features]"
   ]
  },
  {
   "cell_type": "code",
   "execution_count": 47,
   "metadata": {},
   "outputs": [
    {
     "name": "stdout",
     "output_type": "stream",
     "text": [
      "                  precision    recall  f1-score   support\n",
      "\n",
      "  CD14+ monocyte       0.98      0.98      0.98       321\n",
      "CD15+ neutrophil       1.00      1.00      1.00      4582\n",
      "         CD19+ B       0.97      0.98      0.98       222\n",
      "          CD4+ T       0.92      0.92      0.92      1119\n",
      "        CD56+ NK       0.99      0.93      0.96       167\n",
      "          CD8+ T       0.84      0.82      0.83       447\n",
      "             NKT       0.59      0.64      0.61       257\n",
      "      eosinophil       1.00      1.00      1.00       384\n",
      "\n",
      "        accuracy                           0.96      7499\n",
      "       macro avg       0.91      0.91      0.91      7499\n",
      "    weighted avg       0.96      0.96      0.96      7499\n",
      "\n",
      "                        pre       rec       spe        f1       geo       iba       sup\n",
      "\n",
      "  CD14+ monocyte       0.98      0.98      1.00      0.98      0.99      0.98       321\n",
      "CD15+ neutrophil       1.00      1.00      1.00      1.00      1.00      1.00      4582\n",
      "         CD19+ B       0.97      0.98      1.00      0.98      0.99      0.98       222\n",
      "          CD4+ T       0.92      0.92      0.99      0.92      0.95      0.90      1119\n",
      "        CD56+ NK       0.99      0.93      1.00      0.96      0.96      0.92       167\n",
      "          CD8+ T       0.84      0.82      0.99      0.83      0.90      0.80       447\n",
      "             NKT       0.59      0.64      0.98      0.61      0.79      0.61       257\n",
      "      eosinophil       1.00      1.00      1.00      1.00      1.00      1.00       384\n",
      "\n",
      "     avg / total       0.96      0.96      1.00      0.96      0.98      0.96      7499\n",
      "\n",
      "------------------------------------------------------------\n",
      "matthews correlation coeff: 0.9351\n",
      "Cohen Kappa score: 0.9351\n",
      "Cohen Kappa score: 0.9351\n",
      "Accuracy: 0.9615 & balanced Accuracy: 0.9086\n",
      "macro F1 score: 0.9097 & micro F1 score: 0.9615\n",
      "macro Precision score: 0.9115 & micro Precision score: 0.9615\n",
      "macro Recall score: 0.9086 & micro Recall score: 0.9615\n",
      "------------------------------------------------------------\n"
     ]
    },
    {
     "data": {
      "image/png": "[encoded data removed]",
      "text/plain": [
       "<Figure size 432x288 with 2 Axes>"
      ]
     },
     "metadata": {
      "needs_background": "light"
     },
     "output_type": "display_data"
    }
   ],
   "source": [
    "classification_complete_report(pipeline, \n",
    "                               amnis_data.df_features.loc[index_test,:], \n",
    "                               amnis_data.metadata.loc[index_test, \"label\"])"
   ]
  },
  {
   "cell_type": "code",
   "execution_count": null,
   "metadata": {},
   "outputs": [],
   "source": []
  },
  {
   "cell_type": "code",
   "execution_count": 48,
   "metadata": {},
   "outputs": [
    {
     "data": {
      "image/png": "[encoded data removed]",
      "text/plain": [
       "<Figure size 1080x576 with 2 Axes>"
      ]
     },
     "metadata": {
      "needs_background": "light"
     },
     "output_type": "display_data"
    }
   ],
   "source": [
    "\n",
    "from sklearn.inspection import permutation_importance\n",
    "\n",
    "\n",
    "\n",
    "\n",
    "fig, (ax1, ax2) = plt.subplots(1, 2, figsize=(15, 8))\n",
    "\n",
    "tree_importance_sorted_idx = np.argsort(pipeline.steps[3][1].feature_importances_)[-10:]\n",
    "\n",
    "tree_indices = np.arange(0, 10) + 0.5\n",
    "\n",
    "ax1.barh(tree_indices, \n",
    "         pipeline.steps[3][1].feature_importances_[tree_importance_sorted_idx], \n",
    "         height=0.7, color  = \"grey\")\n",
    "ax1.set_yticklabels(amnis_data.df_features.columns[selected_features].values[tree_importance_sorted_idx])\n",
    "ax1.set_yticks(tree_indices)\n",
    "\n",
    "\n",
    "result = permutation_importance(pipeline, \n",
    "                                amnis_data.df_features.loc[index_test,:],  \n",
    "                                amnis_data.metadata.loc[index_test, \"label\"], n_repeats=10,\n",
    "                                random_state=42)\n",
    "perm_sorted_idx = result.importances_mean.argsort()[-10:]\n",
    "ax2.boxplot(result.importances[perm_sorted_idx].T, \n",
    "            vert=False,\n",
    "            labels=amnis_data.df_features.columns.values[perm_sorted_idx])\n",
    "\n",
    "fig.tight_layout()"
   ]
  },
  {
   "cell_type": "code",
   "execution_count": null,
   "metadata": {},
   "outputs": [],
   "source": []
  },
  {
   "cell_type": "code",
   "execution_count": null,
   "metadata": {},
   "outputs": [],
   "source": []
  },
  {
   "cell_type": "code",
   "execution_count": null,
   "metadata": {},
   "outputs": [],
   "source": []
  }
 ],
 "metadata": {
  "kernelspec": {
   "display_name": "Python 3",
   "language": "python",
   "name": "python3"
  },
  "language_info": {
   "codemirror_mode": {
    "name": "ipython",
    "version": 3
   },
   "file_extension": ".py",
   "mimetype": "text/x-python",
   "name": "python",
   "nbconvert_exporter": "python",
   "pygments_lexer": "ipython3",
   "version": "3.8.3"
  }
 },
 "nbformat": 4,
 "nbformat_minor": 5
}
