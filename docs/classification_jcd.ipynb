{
 "cells": [
  {
   "cell_type": "code",
   "execution_count": null,
   "id": "sapphire-exploration",
   "metadata": {},
   "outputs": [],
   "source": []
  },
  {
   "cell_type": "code",
   "execution_count": 8,
   "id": "white-copying",
   "metadata": {},
   "outputs": [],
   "source": [
    "import iflai\n",
    "import matplotlib.pyplot as plt\n",
    "from iflai.ml.features_extraction import *\n",
    "from iflai.ml.feature_selection import AutoFeatureSelection\n",
    "import numpy as np\n",
    "import pandas as pd\n",
    "import glob\n",
    "import warnings\n",
    "warnings.filterwarnings(\"ignore\")\n",
    "from tqdm import tqdm \n",
    "from sklearn.model_selection import train_test_split\n",
    "import h5py\n",
    "from sklearn.pipeline import Pipeline, FeatureUnion\n",
    "from sklearn.feature_extraction import DictVectorizer\n",
    "from iflai.utils import list_of_dict_to_dict\n",
    "from sklearn.preprocessing import MinMaxScaler \n",
    "from sklearn.ensemble import RandomForestClassifier\n",
    "from sklearn.model_selection import GridSearchCV\n",
    "from xgboost import XGBClassifier\n",
    "import seaborn as sns"
   ]
  },
  {
   "cell_type": "code",
   "execution_count": 9,
   "id": "dramatic-giant",
   "metadata": {},
   "outputs": [],
   "source": [
    "from sklearn.metrics import (plot_confusion_matrix, \n",
    "                             matthews_corrcoef, \n",
    "                             classification_report,\n",
    "                             confusion_matrix, \n",
    "                             accuracy_score, \n",
    "                             balanced_accuracy_score, \n",
    "                             cohen_kappa_score, \n",
    "                             f1_score,  \n",
    "                             precision_score, recall_score)\n",
    "from statsmodels.stats.contingency_tables import mcnemar\n",
    "\n",
    "def classification_complete_report(estimator, X, y_true, plot = True ): \n",
    "    y_pred = estimator.predict(X)\n",
    "    print(classification_report(y_true, y_pred))\n",
    "    print(15*\"----\")\n",
    "    print(\"matthews correlation coeff: %.4f\" % (matthews_corrcoef(y_true, y_pred)) )\n",
    "    print(\"Cohen Kappa score: %.4f\" % (cohen_kappa_score(y_true, y_pred)) )\n",
    "    print(\"Accuracy: %.4f & balanced Accuracy: %.4f\" % (accuracy_score(y_true, y_pred), balanced_accuracy_score(y_true, y_pred)) )\n",
    "    print(\"macro F1 score: %.4f & micro F1 score: %.4f\" % (f1_score(y_true, y_pred, average = \"macro\"), f1_score(y_true, y_pred, average = \"micro\")) )\n",
    "    print(\"macro Precision score: %.4f & micro Precision score: %.4f\" % (precision_score(y_true, y_pred, average = \"macro\"), precision_score(y_true, y_pred, average = \"micro\")) )\n",
    "    print(\"macro Recall score: %.4f & micro Recall score: %.4f\" % (recall_score(y_true, y_pred, average = \"macro\"), recall_score(y_true, y_pred, average = \"micro\")) )\n",
    "    print(15*\"----\")\n",
    "    \n",
    "    if plot:\n",
    "        plot_confusion_matrix(estimator, X, y_true,cmap = \"Greys\", xticks_rotation='vertical')\n",
    "    "
   ]
  },
  {
   "cell_type": "code",
   "execution_count": 10,
   "id": "strange-effort",
   "metadata": {},
   "outputs": [],
   "source": [
    "metadata = pd.DataFrame(columns=[\"file\", \"set\", \"label\"])\n",
    "metadata[\"file\"] = glob.glob(\"/pstore/data/DS4/Cell_Cycle_Reconstruction/Donor/condition/*.h5\")\n",
    "metadata[\"set\"] = \"train\""
   ]
  },
  {
   "cell_type": "code",
   "execution_count": 11,
   "id": "internal-blame",
   "metadata": {},
   "outputs": [],
   "source": [
    "sample_image = h5py.File(metadata[\"file\"].iloc[0],\"r\").get(\"image\")[()]\n",
    "sample_mask = h5py.File(metadata[\"file\"].iloc[0],\"r\").get(\"mask\")[()]"
   ]
  },
  {
   "cell_type": "code",
   "execution_count": 12,
   "id": "floppy-outreach",
   "metadata": {},
   "outputs": [],
   "source": [
    "combined_features = FeatureUnion([(\"GLCMFeatures\", GLCMFeatures()), \n",
    "                                  (\"MaskBasedFeatures\", MaskBasedFeatures()) ,\n",
    "                                  (\"GradientRMS\", GradientRMS()) ,\n",
    "                                  (\"BackgroundMean\", BackgroundMean()) ,\n",
    "                                  (\"CellShape\", CellShape()),\n",
    "                                  (\"HistogramFeatures\", HistogramFeatures()),\n",
    "                                  (\"Collocalization\", Collocalization())],\n",
    "                                n_jobs = -1)\n",
    "\n",
    "combined_features.fit([None,None])\n",
    "my_list = combined_features.transform([sample_image,sample_mask]) \n",
    "df_features = pd.DataFrame(index = metadata.index, columns=list_of_dict_to_dict(my_list).keys() )"
   ]
  },
  {
   "cell_type": "code",
   "execution_count": 13,
   "id": "interested-mambo",
   "metadata": {},
   "outputs": [
    {
     "name": "stderr",
     "output_type": "stream",
     "text": [
      "100%|██████████| 1350/1350 [00:30<00:00, 43.61it/s]\n"
     ]
    }
   ],
   "source": [
    "for i in tqdm(range(metadata.shape[0])):\n",
    "    h5_file =  h5py.File(metadata[\"file\"].iloc[i],\"r\")\n",
    "    image = h5_file.get(\"image\")[()]\n",
    "    mask = h5_file.get(\"mask\")[()]\n",
    "    label = h5_file.get(\"label\")[()]\n",
    "    h5_file.close()\n",
    "    features = combined_features.transform([image,mask])\n",
    "    features = list_of_dict_to_dict(features)\n",
    "    df_features.loc[i,:] = features\n",
    "    metadata.loc[i,\"label\"] = label"
   ]
  },
  {
   "cell_type": "code",
   "execution_count": 14,
   "id": "forty-tenant",
   "metadata": {},
   "outputs": [],
   "source": [
    "df_features = df_features.fillna(0.)"
   ]
  },
  {
   "cell_type": "code",
   "execution_count": 15,
   "id": "impossible-printer",
   "metadata": {},
   "outputs": [],
   "source": [
    "index_train , index_test = train_test_split(metadata.index, stratify = metadata[\"label\"])"
   ]
  },
  {
   "cell_type": "code",
   "execution_count": 16,
   "id": "polar-weight",
   "metadata": {},
   "outputs": [
    {
     "name": "stdout",
     "output_type": "stream",
     "text": [
      "[Pipeline] ...... (step 1 of 3) Processing MinMaxScaler, total=   0.0s\n",
      "Calculating mutual info\n",
      "Calculating SVC\n",
      "Calculating random forest\n",
      "Calculating l1 logistic regression\n",
      "Calculating l2 logistic\n",
      "Calculating xgb\n",
      "From 174 initial features Selected (correlated): 48\n",
      "From 174 initial features Selected (uncorrelated): 20\n",
      "[Pipeline]  (step 2 of 3) Processing AutoFeatureSelection, total=  32.2s\n",
      "[Pipeline] ..... (step 3 of 3) Processing XGBClassifier, total=  12.9s\n"
     ]
    },
    {
     "data": {
      "text/plain": [
       "Pipeline(steps=[('MinMaxScaler', MinMaxScaler()),\n",
       "                ('AutoFeatureSelection', AutoFeatureSelection()),\n",
       "                ('XGBClassifier',\n",
       "                 XGBClassifier(base_score=0.5, booster='gbtree',\n",
       "                               colsample_bylevel=1, colsample_bynode=1,\n",
       "                               colsample_bytree=1, eval_metric='logloss',\n",
       "                               gamma=0, gpu_id=-1, importance_type='gain',\n",
       "                               interaction_constraints='',\n",
       "                               learning_rate=0.300000012, max_delta_step=0,\n",
       "                               max_depth=6, min_child_weight=1, missing=nan,\n",
       "                               monotone_constraints='()', n_estimators=100,\n",
       "                               n_jobs=-1, num_parallel_tree=1,\n",
       "                               objective='multi:softprob', random_state=0,\n",
       "                               reg_alpha=0, reg_lambda=1, scale_pos_weight=None,\n",
       "                               subsample=1, tree_method='exact',\n",
       "                               validate_parameters=1, verbosity=None))],\n",
       "         verbose=True)"
      ]
     },
     "execution_count": 16,
     "metadata": {},
     "output_type": "execute_result"
    }
   ],
   "source": [
    "pipeline = Pipeline(steps=[('MinMaxScaler', MinMaxScaler()), \n",
    "                           ('AutoFeatureSelection', AutoFeatureSelection(top_k = 20)),\n",
    "                           ('XGBClassifier', XGBClassifier(n_jobs = -1, eval_metric='logloss')) \n",
    "                          ],  verbose=True)\n",
    "pipeline.fit(df_features.loc[index_train,:],  metadata.loc[index_train, \"label\"])"
   ]
  },
  {
   "cell_type": "code",
   "execution_count": 17,
   "id": "retained-poison",
   "metadata": {},
   "outputs": [],
   "source": [
    "selected_features = pipeline.steps[1][1].selected_features\n",
    "selected_feature_names = df_features.columns[selected_features]"
   ]
  },
  {
   "cell_type": "code",
   "execution_count": 18,
   "id": "golden-bleeding",
   "metadata": {},
   "outputs": [
    {
     "name": "stdout",
     "output_type": "stream",
     "text": [
      "              precision    recall  f1-score   support\n",
      "\n",
      "    Anaphase       0.00      0.00      0.00         4\n",
      "          G1       0.95      0.97      0.96       159\n",
      "   Metaphase       0.00      0.00      0.00        17\n",
      "    Prophase       0.87      0.91      0.89       151\n",
      "   Telophase       0.78      1.00      0.88         7\n",
      "\n",
      "    accuracy                           0.88       338\n",
      "   macro avg       0.52      0.58      0.54       338\n",
      "weighted avg       0.85      0.88      0.87       338\n",
      "\n",
      "------------------------------------------------------------\n",
      "matthews correlation coeff: 0.7960\n",
      "Cohen Kappa score: 0.7944\n",
      "Accuracy: 0.8846 & balanced Accuracy: 0.5764\n",
      "macro F1 score: 0.5443 & micro F1 score: 0.8846\n",
      "macro Precision score: 0.5180 & micro Precision score: 0.8846\n",
      "macro Recall score: 0.5764 & micro Recall score: 0.8846\n",
      "------------------------------------------------------------\n"
     ]
    },
    {
     "data": {
      "image/png": "[encoded data removed]",
      "text/plain": [
       "<Figure size 432x288 with 2 Axes>"
      ]
     },
     "metadata": {
      "needs_background": "light"
     },
     "output_type": "display_data"
    }
   ],
   "source": [
    "classification_complete_report(pipeline, \n",
    "                               df_features.loc[index_test,:], \n",
    "                               metadata.loc[index_test, \"label\"])"
   ]
  },
  {
   "cell_type": "code",
   "execution_count": 19,
   "id": "broken-reflection",
   "metadata": {},
   "outputs": [
    {
     "data": {
      "image/png": "[encoded data removed]",
      "text/plain": [
       "<Figure size 1080x576 with 2 Axes>"
      ]
     },
     "metadata": {
      "needs_background": "light"
     },
     "output_type": "display_data"
    }
   ],
   "source": [
    "\n",
    "from sklearn.inspection import permutation_importance\n",
    "\n",
    "\n",
    "\n",
    "\n",
    "fig, (ax1, ax2) = plt.subplots(1, 2, figsize=(15, 8))\n",
    "\n",
    "tree_importance_sorted_idx = np.argsort(pipeline.steps[2][1].feature_importances_)[-10:]\n",
    "\n",
    "tree_indices = np.arange(0, 10) + 0.5\n",
    "\n",
    "ax1.barh(tree_indices, \n",
    "         pipeline.steps[2][1].feature_importances_[tree_importance_sorted_idx], \n",
    "         height=0.7, color  = \"grey\")\n",
    "ax1.set_yticklabels(df_features.columns[selected_features].values[tree_importance_sorted_idx])\n",
    "ax1.set_yticks(tree_indices)\n",
    "\n",
    "\n",
    "result = permutation_importance(pipeline, \n",
    "                                df_features.loc[index_test,:],  \n",
    "                                metadata.loc[index_test, \"label\"], n_repeats=10,\n",
    "                                random_state=42)\n",
    "perm_sorted_idx = result.importances_mean.argsort()[-10:]\n",
    "ax2.boxplot(result.importances[perm_sorted_idx].T, \n",
    "            vert=False,\n",
    "            labels=df_features.columns.values[perm_sorted_idx])\n",
    "\n",
    "fig.tight_layout()"
   ]
  },
  {
   "cell_type": "code",
   "execution_count": null,
   "id": "lined-knitting",
   "metadata": {},
   "outputs": [],
   "source": []
  },
  {
   "cell_type": "code",
   "execution_count": 20,
   "id": "choice-reliance",
   "metadata": {},
   "outputs": [],
   "source": [
    "\n",
    "channel_importance_xgb = {\"Ch1\" : 0., \"Ch2\" : 0., \"Ch3\": 0.}\n",
    "\n",
    "for i,f in enumerate(selected_feature_names):\n",
    "    value = pipeline.steps[2][1].feature_importances_[i]\n",
    "    if \"Ch1\" in f:\n",
    "        channel_importance_xgb[\"Ch1\"] = channel_importance_xgb[\"Ch1\"] + value\n",
    "    elif \"Ch2\" in f:\n",
    "        channel_importance_xgb[\"Ch2\"] = channel_importance_xgb[\"Ch2\"] + value\n",
    "    elif \"Ch3\" in f:\n",
    "        channel_importance_xgb[\"Ch3\"] = channel_importance_xgb[\"Ch3\"] + value\n",
    "\n",
    "\n",
    "channel_importance_permutation = {\"Ch1\" : 0., \"Ch2\" : 0., \"Ch3\": 0.}\n",
    "\n",
    "for i,f in enumerate(df_features.columns):\n",
    "    value = result['importances_mean'][i]\n",
    "    if \"Ch1\" in f:\n",
    "        channel_importance_permutation[\"Ch1\"] = channel_importance_permutation[\"Ch1\"] + value\n",
    "    elif \"Ch2\" in f:\n",
    "        channel_importance_permutation[\"Ch2\"] = channel_importance_permutation[\"Ch2\"] + value\n",
    "    elif \"Ch3\" in f:\n",
    "        channel_importance_permutation[\"Ch3\"] = channel_importance_permutation[\"Ch3\"] + value\n"
   ]
  },
  {
   "cell_type": "code",
   "execution_count": 21,
   "id": "aggressive-degree",
   "metadata": {},
   "outputs": [
    {
     "data": {
      "text/plain": [
       "Text(0.5, 1.0, 'Channel importance')"
      ]
     },
     "execution_count": 21,
     "metadata": {},
     "output_type": "execute_result"
    },
    {
     "data": {
      "image/png": "[encoded data removed]",
      "text/plain": [
       "<Figure size 432x288 with 1 Axes>"
      ]
     },
     "metadata": {
      "needs_background": "light"
     },
     "output_type": "display_data"
    }
   ],
   "source": [
    "plt.bar([\"BF\", \"Darkfield\", \"PI\"], channel_importance_xgb.values())\n",
    "plt.title(\"Channel importance\")"
   ]
  },
  {
   "cell_type": "code",
   "execution_count": 22,
   "id": "excited-profession",
   "metadata": {},
   "outputs": [
    {
     "data": {
      "text/plain": [
       "Text(0.5, 1.0, 'Channel importance')"
      ]
     },
     "execution_count": 22,
     "metadata": {},
     "output_type": "execute_result"
    },
    {
     "data": {
      "image/png": "[encoded data removed]",
      "text/plain": [
       "<Figure size 432x288 with 1 Axes>"
      ]
     },
     "metadata": {
      "needs_background": "light"
     },
     "output_type": "display_data"
    }
   ],
   "source": [
    "plt.bar([\"BF\", \"Darkfield\", \"PI\"], channel_importance_permutation.values())\n",
    "plt.title(\"Permutation importance\")"
   ]
  },
  {
   "cell_type": "code",
   "execution_count": null,
   "id": "complete-louis",
   "metadata": {},
   "outputs": [],
   "source": []
  },
  {
   "cell_type": "code",
   "execution_count": null,
   "id": "traditional-respect",
   "metadata": {},
   "outputs": [],
   "source": []
  }
 ],
 "metadata": {
  "kernelspec": {
   "display_name": "Python 3",
   "language": "python",
   "name": "python3"
  },
  "language_info": {
   "codemirror_mode": {
    "name": "ipython",
    "version": 3
   },
   "file_extension": ".py",
   "mimetype": "text/x-python",
   "name": "python",
   "nbconvert_exporter": "python",
   "pygments_lexer": "ipython3",
   "version": "3.8.10"
  }
 },
 "nbformat": 4,
 "nbformat_minor": 5
}
