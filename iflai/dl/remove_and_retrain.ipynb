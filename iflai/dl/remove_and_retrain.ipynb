{
 "cells": [
  {
   "cell_type": "code",
   "execution_count": null,
   "metadata": {},
   "outputs": [],
   "source": [
    "from datetime import datetime\n",
    "import itertools\n",
    "import logging\n",
    "import numpy as np\n",
    "import os\n",
    "from sklearn.datasets import make_classification\n",
    "from sklearn.metrics import classification_report\n",
    "from skorch import NeuralNetClassifier\n",
    "from skorch.callbacks import LRScheduler\n",
    "from skorch.helper import predefined_split\n",
    "from skorch.callbacks import Checkpoint, TrainEndCheckpoint\n",
    "import torch\n",
    "import torch.nn as nn\n",
    "import torch.optim as optim\n",
    "from torch.utils.data import DataLoader, Dataset\n",
    "from torchvision import transforms"
   ]
  },
  {
   "cell_type": "code",
   "execution_count": null,
   "metadata": {},
   "outputs": [],
   "source": [
    "import iflai\n",
    "from iflai.dl.util import calculate_weights, train_validation_test_split, get_statistics\n",
    "from iflai.dl.dataset import DatasetGenerator\n",
    "from iflai.dl.models import PretrainedModel, resnet18"
   ]
  },
  {
   "cell_type": "code",
   "execution_count": null,
   "metadata": {},
   "outputs": [],
   "source": [
    "seed_value = 42\n",
    "\n",
    "os.environ['PYTHONHASHSEED']=str(seed_value)\n",
    "import random\n",
    "random.seed(seed_value)\n",
    "\n",
    "np.random.seed(seed_value)\n",
    "torch.manual_seed(seed_value)"
   ]
  },
  {
   "cell_type": "markdown",
   "metadata": {},
   "source": [
    "#### Define all necessary parameters"
   ]
  },
  {
   "cell_type": "code",
   "execution_count": null,
   "metadata": {},
   "outputs": [],
   "source": [
    "dataset_name = \"wbc\"\n",
    "num_of_all_channels = 12\n",
    "path_to_data =\"..\\..\\data/WBC\"\n",
    "model_dir = \"models\"\n",
    "log_dir = \"logs\"\n",
    "scaling_factor = 4095.\n",
    "reshape_size = 64\n",
    "train_transform_init = [\n",
    "         transforms.RandomVerticalFlip(),\n",
    "         transforms.RandomHorizontalFlip(),\n",
    "         transforms.RandomRotation(45)\n",
    "        ]\n",
    "test_transform_init = [ ]\n",
    "all_channels = np.arange(num_of_all_channels)\n",
    "channels =np.asarray([ \"Ch\" + str(i) for i in all_channels])\n",
    "\n",
    "# how many times the model has to be retrained for the same set of channels\n",
    "n_retrain = 5\n",
    "# how many channels should be removed from the dataset\n",
    "#number_removed_channels = 3"
   ]
  },
  {
   "cell_type": "code",
   "execution_count": null,
   "metadata": {},
   "outputs": [],
   "source": [
    "batch_size = 64\n",
    "num_workers = 2\n",
    "device=\"cpu\""
   ]
  },
  {
   "cell_type": "code",
   "execution_count": null,
   "metadata": {},
   "outputs": [],
   "source": [
    "# hyperparameters for the model\n",
    "lrscheduler = LRScheduler(\n",
    "    policy='StepLR', step_size=7, gamma=0.5)\n",
    "number_epochs = 10\n",
    "lr = 0.001\n",
    "momentum=0.9\n",
    "optimizer = optim.SGD"
   ]
  },
  {
   "cell_type": "code",
   "execution_count": null,
   "metadata": {},
   "outputs": [],
   "source": [
    "os.makedirs(model_dir, exist_ok=True)\n",
    "os.makedirs(log_dir, exist_ok=True)"
   ]
  },
  {
   "cell_type": "code",
   "execution_count": null,
   "metadata": {},
   "outputs": [],
   "source": [
    "# initialize logging\n",
    "now = datetime.now()\n",
    "timestamp = datetime.timestamp(now)\n",
    "logging.basicConfig(filename=os.path.join(log_dir, 'remove_and_retrain_{}_{}.txt'.format(dataset_name, timestamp)), level=logging.DEBUG)"
   ]
  },
  {
   "cell_type": "markdown",
   "metadata": {},
   "source": [
    "#### Load data"
   ]
  },
  {
   "cell_type": "code",
   "execution_count": null,
   "metadata": {},
   "outputs": [],
   "source": [
    "%time\n",
    "\n",
    "metadata = iflai.metadata_generator(path_to_data)"
   ]
  },
  {
   "cell_type": "code",
   "execution_count": null,
   "metadata": {},
   "outputs": [],
   "source": [
    "indx = metadata[\"label\"] != \"unknown\"\n",
    "metadata = metadata.loc[indx,:]\n",
    "metadata = metadata.reset_index(drop = True)"
   ]
  },
  {
   "cell_type": "code",
   "execution_count": null,
   "metadata": {},
   "outputs": [],
   "source": [
    "label_map = dict(zip(sorted(set(metadata[\"label\"])), np.arange(len(set(metadata[\"label\"])))))\n",
    "num_classes = len(label_map.keys())\n",
    "class_names_targets = [c.decode(\"utf-8\") for c in label_map.keys()]"
   ]
  },
  {
   "cell_type": "code",
   "execution_count": null,
   "metadata": {},
   "outputs": [],
   "source": [
    "def split_load_normalize_data(random_state=seed_value, selected_channels=[]):\n",
    "    train_index, validation_index, test_index = train_validation_test_split(metadata.index, metadata[\"label\"], random_state=seed_value)\n",
    "    \n",
    "    # caclculate statistics\n",
    "    train_transform = train_transform_init.copy()\n",
    "    test_transform = test_transform_init.copy()\n",
    "    train_dataset = DatasetGenerator(metadata=metadata.loc[train_index,:],\n",
    "                                 label_map=label_map,\n",
    "                                 selected_channels=selected_channels,\n",
    "                                 scaling_factor=scaling_factor,\n",
    "                                 reshape_size=reshape_size,\n",
    "                                 transform=transforms.Compose(train_transform))\n",
    "    train_loader = DataLoader(train_dataset, batch_size=batch_size, shuffle=False, num_workers=num_workers)\n",
    "    statistics = get_statistics(train_loader, selected_channels=selected_channels)\n",
    "    \n",
    "    # normalize data\n",
    "    train_transform.append(transforms.Normalize(mean=statistics[\"mean\"][selected_channels],\n",
    "                         std=statistics[\"mean\"][selected_channels]))\n",
    "    test_transform.append(transforms.Normalize(mean=statistics[\"mean\"][selected_channels],\n",
    "                         std=statistics[\"mean\"][selected_channels]))\n",
    "  \n",
    "    \n",
    "    train_dataset = DatasetGenerator(metadata=metadata.loc[train_index,:],\n",
    "                                 label_map=label_map,\n",
    "                                 selected_channels=selected_channels,\n",
    "                                 scaling_factor=scaling_factor, \n",
    "                                 reshape_size=reshape_size,\n",
    "                                 transform= transforms.Compose(train_transform))\n",
    "    validation_dataset = DatasetGenerator(metadata=metadata.loc[validation_index,:],\n",
    "                                      label_map=label_map,\n",
    "                                      selected_channels=selected_channels,\n",
    "                                      scaling_factor=scaling_factor,\n",
    "                                      reshape_size=reshape_size,\n",
    "                                      transform=transforms.Compose(test_transform))\n",
    "    test_dataset = DatasetGenerator(metadata=metadata.loc[test_index,:],\n",
    "                                    label_map=label_map,\n",
    "                                    selected_channels=selected_channels,\n",
    "                                    scaling_factor=scaling_factor,\n",
    "                                    reshape_size=reshape_size,\n",
    "                                    transform=transforms.Compose(test_transform))\n",
    "    return train_dataset, validation_dataset, test_dataset"
   ]
  },
  {
   "cell_type": "code",
   "execution_count": null,
   "metadata": {},
   "outputs": [],
   "source": [
    "def train_model(train_dataset, validation_dataset, num_channels, selected_channels, seed):\n",
    "    model_saved_name = '{}_net_{}_seed_{}.pth'.format(dataset_name, '_'.join(map(str,selected_channels)), seed)\n",
    "    checkpoint = Checkpoint(f_params=model_saved_name, monitor='valid_loss_best', dirname='models')\n",
    "    net = NeuralNetClassifier(\n",
    "        PretrainedModel, \n",
    "        criterion=nn.CrossEntropyLoss,\n",
    "        lr=lr,\n",
    "        batch_size=batch_size,\n",
    "        max_epochs=number_epochs,\n",
    "        module__output_features=num_classes,\n",
    "        module__num_classes=num_classes,\n",
    "        module__num_channels=num_channels, \n",
    "        optimizer=optimizer,\n",
    "        optimizer__momentum=momentum,\n",
    "        iterator_train__shuffle=False,\n",
    "        iterator_train__num_workers=num_workers,\n",
    "        iterator_valid__shuffle=False,\n",
    "        iterator_valid__num_workers=num_workers,\n",
    "        callbacks=[lrscheduler, checkpoint],\n",
    "        train_split=predefined_split(validation_dataset),\n",
    "        #device='cuda' # comment to train on cpu\n",
    "    )\n",
    "    net.fit(train_dataset, y=None)\n",
    "    \n",
    "    return model_saved_name"
   ]
  },
  {
   "cell_type": "code",
   "execution_count": null,
   "metadata": {},
   "outputs": [],
   "source": [
    "def load_and_eval_model(num_channels, test_dataset, path_to_the_cp=\"\"):\n",
    "    test_loader = DataLoader(test_dataset, batch_size=batch_size, shuffle=False, num_workers=num_workers)\n",
    "    # load model\n",
    "    model = PretrainedModel(num_classes, num_channels)\n",
    "    checkpoint = torch.load(os.path.join(model_dir, path_to_the_cp))\n",
    "    model.load_state_dict(checkpoint)\n",
    "    model = model.to(device)\n",
    "    \n",
    "    # evaluate\n",
    "    correct = 0.\n",
    "    total = 0.\n",
    "    y_true = list()\n",
    "    y_pred = list()\n",
    "    y_true_proba = list()\n",
    "    with torch.no_grad():\n",
    "        for data in test_loader:\n",
    "            inputs, labels = data[0].to(device).float(), data[1].to(device).long()\n",
    "            outputs = model(inputs)\n",
    "            pred = outputs.argmax(dim=1)\n",
    "            true_proba = np.array([j[i] for (i,j) in zip(pred, outputs)])\n",
    "            _, predicted = torch.max(outputs.data, 1)\n",
    "            total += labels.size(0)\n",
    "            correct += (labels.reshape(-1) == predicted).sum().item()\n",
    "            for i in range(len(pred)):\n",
    "                y_true.append(labels[i].item())\n",
    "                y_pred.append(pred[i].item())\n",
    "                y_true_proba.append(true_proba[i].item())\n",
    "    \n",
    "    # save result\n",
    "    logging.info(classification_report(y_true, y_pred, target_names=class_names_targets, digits=4))"
   ]
  },
  {
   "cell_type": "code",
   "execution_count": null,
   "metadata": {},
   "outputs": [],
   "source": [
    "def findsubsets(s, n_elements):\n",
    "    return list(itertools.combinations(s, n_elements))"
   ]
  },
  {
   "cell_type": "code",
   "execution_count": null,
   "metadata": {},
   "outputs": [],
   "source": [
    "s = set(all_channels)\n",
    "for number_removed_channels in np.array([1,2,4,5,6,7,8,9,10,11]):\n",
    "    all_combinations = findsubsets(s, num_of_all_channels - number_removed_channels)\n",
    "    for channel_comb in all_combinations:\n",
    "        for n in range(n_retrain):\n",
    "            channel_comb = np.asarray(channel_comb)\n",
    "            logging.info(\"Train new model: iteration {}, channels: {}\".format(str(n), '_'.join(map(str, channel_comb))))\n",
    "            num_channels = len(channel_comb)\n",
    "            train_dataset, val_dataset, test_dataset = split_load_normalize_data(random_state=seed_value, selected_channels=channel_comb)\n",
    "            model_path = train_model(train_dataset, val_dataset, num_channels, channel_comb, n)\n",
    "            load_and_eval_model(num_channels, test_dataset, model_path)\n",
    "            os.remove(os.path.join(model_dir, model_path))"
   ]
  },
  {
   "cell_type": "code",
   "execution_count": null,
   "metadata": {},
   "outputs": [],
   "source": []
  }
 ],
 "metadata": {
  "kernelspec": {
   "display_name": "newiflai",
   "language": "python",
   "name": "newiflai"
  },
  "language_info": {
   "codemirror_mode": {
    "name": "ipython",
    "version": 3
   },
   "file_extension": ".py",
   "mimetype": "text/x-python",
   "name": "python",
   "nbconvert_exporter": "python",
   "pygments_lexer": "ipython3",
   "version": "3.8.12"
  }
 },
 "nbformat": 4,
 "nbformat_minor": 4
}
