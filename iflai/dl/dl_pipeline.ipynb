{
 "cells": [
  {
   "cell_type": "code",
   "execution_count": 1,
   "metadata": {},
   "outputs": [],
   "source": [
    "import numpy as np\n",
    "from sklearn.datasets import make_classification\n",
    "import torch.nn as nn\n",
    "from skorch import NeuralNetClassifier"
   ]
  },
  {
   "cell_type": "code",
   "execution_count": 2,
   "metadata": {},
   "outputs": [],
   "source": [
    "import matplotlib.pyplot as plt\n",
    "import glob\n",
    "from imageio import imread\n",
    "# Ignore warnings\n",
    "import warnings\n",
    "warnings.filterwarnings(\"ignore\")\n",
    "import os\n",
    "import numpy as np\n",
    "from tqdm import tqdm\n",
    "import pandas as pd\n",
    "from sklearn.ensemble import RandomForestClassifier\n",
    "from sklearn.metrics import classification_report\n",
    "import torch\n",
    "from torchvision import transforms\n",
    "from util import calculate_weights, train_validation_test_split, get_statistics\n",
    "from dataset import DatasetGenerator\n",
    "from custom_transforms import ShuffleChannel\n",
    "from IPython.core.debugger import Tracer\n",
    "from torch.utils.data import DataLoader, Dataset\n",
    "from sklearn.pipeline import Pipeline, FeatureUnion\n",
    "# Compare Algorithms\n",
    "from sklearn.model_selection import train_test_split\n",
    "from imblearn.over_sampling import RandomOverSampler\n",
    "from models import PretrainedModel, resnet18\n",
    "from sklearn.metrics import f1_score"
   ]
  },
  {
   "cell_type": "code",
   "execution_count": 3,
   "metadata": {},
   "outputs": [],
   "source": [
    "from skorch.callbacks import LRScheduler\n",
    "import torch.optim as optim\n",
    "from skorch.helper import predefined_split\n",
    "from skorch.callbacks import Checkpoint, TrainEndCheckpoint\n",
    "from collections import Counter"
   ]
  },
  {
   "cell_type": "code",
   "execution_count": 4,
   "metadata": {},
   "outputs": [],
   "source": [
    "import iflai"
   ]
  },
  {
   "cell_type": "markdown",
   "metadata": {},
   "source": [
    "#### Set all random seeds to the specific value, so the results are more reproducable"
   ]
  },
  {
   "cell_type": "code",
   "execution_count": 5,
   "metadata": {},
   "outputs": [
    {
     "data": {
      "text/plain": [
       "<torch._C.Generator at 0x1a6e15218d0>"
      ]
     },
     "execution_count": 5,
     "metadata": {},
     "output_type": "execute_result"
    }
   ],
   "source": [
    "seed_value = 42\n",
    "\n",
    "os.environ['PYTHONHASHSEED']=str(seed_value)\n",
    "import random\n",
    "random.seed(seed_value)\n",
    "\n",
    "np.random.seed(seed_value)\n",
    "torch.manual_seed(seed_value)"
   ]
  },
  {
   "cell_type": "markdown",
   "metadata": {},
   "source": [
    "#### Define all necessary parameters"
   ]
  },
  {
   "cell_type": "code",
   "execution_count": 6,
   "metadata": {},
   "outputs": [],
   "source": [
    "dataset_name = \"wbc\"\n",
    "selected_channels = np.arange(12)\n",
    "path_to_data =\"..\\..\\data/WBC\"\n",
    "model_dir = \"models_remote\"\n",
    "scaling_factor = 4095.\n",
    "reshape_size = 64\n",
    "num_channels = len(selected_channels)\n",
    "train_transform = [\n",
    "         transforms.RandomVerticalFlip(),\n",
    "         transforms.RandomHorizontalFlip(),\n",
    "         transforms.RandomRotation(45)\n",
    "        ]\n",
    "test_transform = [ ]\n",
    "channels =np.asarray([ \"Ch\" + str(i) for i in selected_channels])"
   ]
  },
  {
   "cell_type": "code",
   "execution_count": 7,
   "metadata": {},
   "outputs": [],
   "source": [
    "batch_size = 64\n",
    "num_workers = 2\n",
    "device=\"cpu\""
   ]
  },
  {
   "cell_type": "markdown",
   "metadata": {},
   "source": [
    "#### Load data"
   ]
  },
  {
   "cell_type": "code",
   "execution_count": 8,
   "metadata": {},
   "outputs": [
    {
     "name": "stdout",
     "output_type": "stream",
     "text": [
      "Wall time: 0 ns\n",
      "Metadata prepration starts...\n",
      "experiment donor condition\n"
     ]
    },
    {
     "name": "stderr",
     "output_type": "stream",
     "text": [
      "100%|██████████████████████████████████████████████████████████████████████████████████████████████████████████████████████████████████████████████████████████████████████████████████████████| 31280/31280 [00:07<00:00, 3945.90it/s]\n"
     ]
    },
    {
     "name": "stdout",
     "output_type": "stream",
     "text": [
      "...metadata prepration ended.\n"
     ]
    }
   ],
   "source": [
    "%time\n",
    "\n",
    "metadata = iflai.metadata_generator(path_to_data)"
   ]
  },
  {
   "cell_type": "code",
   "execution_count": 9,
   "metadata": {},
   "outputs": [],
   "source": [
    "indx = metadata[\"label\"] != \"unknown\"\n",
    "metadata = metadata.loc[indx,:]\n",
    "metadata = metadata.reset_index(drop = True)"
   ]
  },
  {
   "cell_type": "markdown",
   "metadata": {},
   "source": [
    "#### Split data"
   ]
  },
  {
   "cell_type": "code",
   "execution_count": 10,
   "metadata": {},
   "outputs": [],
   "source": [
    "train_index, validation_index, test_index = train_validation_test_split(metadata.index, metadata[\"label\"], random_state=seed_value)"
   ]
  },
  {
   "cell_type": "code",
   "execution_count": 11,
   "metadata": {},
   "outputs": [],
   "source": [
    "label_map = dict(zip(sorted(set(metadata.loc[train_index, \"label\"])), np.arange(len(set(metadata.loc[train_index, \"label\"])))))"
   ]
  },
  {
   "cell_type": "code",
   "execution_count": 12,
   "metadata": {},
   "outputs": [
    {
     "data": {
      "text/plain": [
       "{b'CD14+ monocyte': 0,\n",
       " b'CD15+ neutrophil': 1,\n",
       " b'CD19+ B': 2,\n",
       " b'CD4+ T': 3,\n",
       " b'CD56+ NK': 4,\n",
       " b'CD8+ T': 5,\n",
       " b'NKT': 6,\n",
       " b'eosinophil': 7,\n",
       " b'unknown': 8}"
      ]
     },
     "execution_count": 12,
     "metadata": {},
     "output_type": "execute_result"
    }
   ],
   "source": [
    "label_map"
   ]
  },
  {
   "cell_type": "markdown",
   "metadata": {},
   "source": [
    "#### Oversamle and use class weights for imbalance data / Skip if not required"
   ]
  },
  {
   "cell_type": "code",
   "execution_count": 13,
   "metadata": {},
   "outputs": [],
   "source": [
    "y_train = [label_map.get(metadata.loc[i, \"label\"]) for i in train_index]\n",
    "weights = calculate_weights(y_train)\n",
    "oversample = RandomOverSampler(random_state=seed_value, sampling_strategy='all')"
   ]
  },
  {
   "cell_type": "code",
   "execution_count": null,
   "metadata": {},
   "outputs": [],
   "source": [
    "Counter(y_train)"
   ]
  },
  {
   "cell_type": "code",
   "execution_count": null,
   "metadata": {},
   "outputs": [],
   "source": [
    "train_index, y_train = oversample.fit_resample(np.asarray(train_index).reshape(-1, 1), y_train)\n",
    "train_index = train_index.T[0]"
   ]
  },
  {
   "cell_type": "code",
   "execution_count": null,
   "metadata": {},
   "outputs": [],
   "source": [
    "Counter(y_train)"
   ]
  },
  {
   "cell_type": "markdown",
   "metadata": {},
   "source": [
    "#### Calculate statistics of train set and normalize the data"
   ]
  },
  {
   "cell_type": "code",
   "execution_count": 14,
   "metadata": {},
   "outputs": [],
   "source": [
    "train_dataset = DatasetGenerator(metadata=metadata.loc[train_index,:],\n",
    "                                 label_map=label_map,\n",
    "                                 selected_channels=selected_channels,\n",
    "                                 scaling_factor=scaling_factor,\n",
    "                                 reshape_size=reshape_size,\n",
    "                                 transform=transforms.Compose(train_transform))"
   ]
  },
  {
   "cell_type": "code",
   "execution_count": 15,
   "metadata": {},
   "outputs": [],
   "source": [
    "train_loader = DataLoader(train_dataset, batch_size=batch_size, shuffle=False, num_workers=num_workers)"
   ]
  },
  {
   "cell_type": "code",
   "execution_count": 16,
   "metadata": {},
   "outputs": [
    {
     "data": {
      "text/plain": [
       "<matplotlib.image.AxesImage at 0x1a6ec07a670>"
      ]
     },
     "execution_count": 16,
     "metadata": {},
     "output_type": "execute_result"
    },
    {
     "data": {
      "image/png": "[encoded data removed]",
      "text/plain": [
       "<Figure size 432x288 with 1 Axes>"
      ]
     },
     "metadata": {
      "needs_background": "light"
     },
     "output_type": "display_data"
    }
   ],
   "source": [
    "plt.imshow(train_dataset[0][0][0])"
   ]
  },
  {
   "cell_type": "code",
   "execution_count": 17,
   "metadata": {},
   "outputs": [
    {
     "name": "stderr",
     "output_type": "stream",
     "text": [
      "100%|████████████████████████████████████████████████████████████████████████████████████████████████████████████████████████████████████████████████████████████████████████████████████████████████| 313/313 [04:06<00:00,  1.27it/s]"
     ]
    },
    {
     "name": "stdout",
     "output_type": "stream",
     "text": [
      "statistics used: {'min': tensor([0., 0., 0., 0., 0., 0., 0., 0., 0., 0., 0., 0.]), 'p01': tensor([0., 0., 0., 0., 0., 0., 0., 0., 0., 0., 0., 0.]), 'p05': tensor([0., 0., 0., 0., 0., 0., 0., 0., 0., 0., 0., 0.]), 'p25': tensor([0.1921, 0.0032, 0.0139, 0.0049, 0.0071, 0.0090, 0.0103, 0.0079, 0.1888,\n",
      "        0.0120, 0.0047, 0.0082]), 'p50': tensor([0.1966, 0.0040, 0.0144, 0.0051, 0.0076, 0.0098, 0.0110, 0.0084, 0.1921,\n",
      "        0.0131, 0.0055, 0.0085]), 'p75': tensor([0.1979, 0.0084, 0.0147, 0.0056, 0.0078, 0.0129, 0.0117, 0.0102, 0.1936,\n",
      "        0.0141, 0.0063, 0.0088]), 'p95': tensor([0.2090, 0.0649, 0.0156, 0.0062, 0.0084, 0.0486, 0.0280, 0.0249, 0.2049,\n",
      "        0.0162, 0.0073, 0.0095]), 'p99': tensor([0.2315, 0.1167, 0.0182, 0.0097, 0.0090, 0.1018, 0.0722, 0.0417, 0.2271,\n",
      "        0.0273, 0.0082, 0.0141]), 'max': tensor([0.3464, 0.7831, 0.0413, 0.0301, 0.0180, 0.7042, 0.2737, 0.1221, 0.3525,\n",
      "        0.0799, 0.0223, 0.0606]), 'mean': tensor([0.1728, 0.0134, 0.0128, 0.0048, 0.0067, 0.0151, 0.0125, 0.0099, 0.1691,\n",
      "        0.0121, 0.0050, 0.0077]), 'std': tensor([0.0640, 0.0270, 0.0048, 0.0020, 0.0025, 0.0203, 0.0125, 0.0075, 0.0626,\n",
      "        0.0052, 0.0021, 0.0031])}\n"
     ]
    },
    {
     "name": "stderr",
     "output_type": "stream",
     "text": [
      "\n"
     ]
    }
   ],
   "source": [
    "statistics = get_statistics(train_loader, selected_channels=selected_channels)"
   ]
  },
  {
   "cell_type": "code",
   "execution_count": 18,
   "metadata": {},
   "outputs": [],
   "source": [
    "train_transform.append(transforms.Normalize(mean=statistics[\"mean\"],\n",
    "                         std=statistics[\"std\"]))"
   ]
  },
  {
   "cell_type": "code",
   "execution_count": 19,
   "metadata": {},
   "outputs": [],
   "source": [
    "test_transform.append(transforms.Normalize(mean=statistics[\"mean\"],\n",
    "                         std=statistics[\"std\"]))"
   ]
  },
  {
   "cell_type": "code",
   "execution_count": 20,
   "metadata": {},
   "outputs": [],
   "source": [
    "train_dataset = DatasetGenerator(metadata=metadata.loc[train_index,:],\n",
    "                                 label_map=label_map,\n",
    "                                 selected_channels=selected_channels,\n",
    "                                 scaling_factor=scaling_factor, \n",
    "                                 reshape_size=reshape_size,\n",
    "                                 transform= transforms.Compose(train_transform))"
   ]
  },
  {
   "cell_type": "code",
   "execution_count": 21,
   "metadata": {},
   "outputs": [],
   "source": [
    "train_loader = DataLoader(train_dataset, batch_size=batch_size, shuffle=False, num_workers=num_workers)"
   ]
  },
  {
   "cell_type": "code",
   "execution_count": 22,
   "metadata": {},
   "outputs": [],
   "source": [
    "num_classes = len(label_map.keys())"
   ]
  },
  {
   "cell_type": "code",
   "execution_count": 23,
   "metadata": {},
   "outputs": [],
   "source": [
    "validation_dataset = DatasetGenerator(metadata=metadata.loc[validation_index,:],\n",
    "                                      label_map=label_map,\n",
    "                                      selected_channels=selected_channels,\n",
    "                                      scaling_factor=scaling_factor,\n",
    "                                      reshape_size=reshape_size,\n",
    "                                      transform=transforms.Compose(test_transform))\n",
    "test_dataset = DatasetGenerator(metadata=metadata.loc[test_index,:],\n",
    "                                label_map=label_map,\n",
    "                                selected_channels=selected_channels,\n",
    "                                scaling_factor=scaling_factor,\n",
    "                                reshape_size=reshape_size,\n",
    "                                transform=\n",
    "                                transforms.Compose(test_transform))"
   ]
  },
  {
   "cell_type": "code",
   "execution_count": 24,
   "metadata": {},
   "outputs": [],
   "source": [
    "validation_loader = DataLoader(validation_dataset, batch_size=batch_size, shuffle=False, num_workers=num_workers)\n",
    "test_loader = DataLoader(test_dataset, batch_size=batch_size, shuffle=False, num_workers=num_workers)"
   ]
  },
  {
   "cell_type": "markdown",
   "metadata": {},
   "source": [
    "#### Set all hyperparameters for the model"
   ]
  },
  {
   "cell_type": "code",
   "execution_count": 25,
   "metadata": {},
   "outputs": [],
   "source": [
    "lrscheduler = LRScheduler(\n",
    "    policy='StepLR', step_size=7, gamma=0.5)"
   ]
  },
  {
   "cell_type": "code",
   "execution_count": 26,
   "metadata": {},
   "outputs": [],
   "source": [
    "checkpoint = Checkpoint(\n",
    "    f_params='wbc_net_all_.pth', monitor='valid_loss_best', dirname='models')\n",
    "train_end_cp = TrainEndCheckpoint(f_params='final_wbc_net_all_.pth', dirname='models')"
   ]
  },
  {
   "cell_type": "code",
   "execution_count": 26,
   "metadata": {},
   "outputs": [
    {
     "ename": "NameError",
     "evalue": "name 'weights' is not defined",
     "output_type": "error",
     "traceback": [
      "\u001b[1;31m---------------------------------------------------------------------------\u001b[0m",
      "\u001b[1;31mNameError\u001b[0m                                 Traceback (most recent call last)",
      "\u001b[1;32m~\\AppData\\Local\\Temp/ipykernel_16220/810009284.py\u001b[0m in \u001b[0;36m<module>\u001b[1;34m\u001b[0m\n\u001b[1;32m----> 1\u001b[1;33m \u001b[0mclass_weights\u001b[0m \u001b[1;33m=\u001b[0m \u001b[0mtorch\u001b[0m\u001b[1;33m.\u001b[0m\u001b[0mFloatTensor\u001b[0m\u001b[1;33m(\u001b[0m\u001b[0mweights\u001b[0m\u001b[1;33m)\u001b[0m\u001b[1;33m.\u001b[0m\u001b[0mto\u001b[0m\u001b[1;33m(\u001b[0m\u001b[0mdevice\u001b[0m\u001b[1;33m)\u001b[0m\u001b[1;33m\u001b[0m\u001b[1;33m\u001b[0m\u001b[0m\n\u001b[0m",
      "\u001b[1;31mNameError\u001b[0m: name 'weights' is not defined"
     ]
    }
   ],
   "source": [
    "class_weights = torch.FloatTensor(weights).to(device)"
   ]
  },
  {
   "cell_type": "markdown",
   "metadata": {},
   "source": [
    "### Initialite and train the model"
   ]
  },
  {
   "cell_type": "code",
   "execution_count": null,
   "metadata": {},
   "outputs": [],
   "source": [
    "num_classes"
   ]
  },
  {
   "cell_type": "code",
   "execution_count": null,
   "metadata": {},
   "outputs": [],
   "source": [
    "net = NeuralNetClassifier(\n",
    "    PretrainedModel, \n",
    "    criterion=nn.CrossEntropyLoss,\n",
    "    #criterion__weight=class_weights,\n",
    "    lr=0.001,\n",
    "    batch_size=64,\n",
    "    max_epochs=10,\n",
    "    module__output_features=num_classes,\n",
    "    module__num_classes=num_classes,\n",
    "    module__num_channels=num_channels, \n",
    "    optimizer=optim.SGD,\n",
    "    optimizer__momentum=0.9,\n",
    "    iterator_train__shuffle=False,\n",
    "    iterator_train__num_workers=2,\n",
    "    iterator_valid__shuffle=False,\n",
    "    iterator_valid__num_workers=2,\n",
    "    callbacks=[lrscheduler, checkpoint, train_end_cp],\n",
    "    train_split=predefined_split(validation_dataset),\n",
    "    #device='cuda' # comment to train on cpu\n",
    ")"
   ]
  },
  {
   "cell_type": "code",
   "execution_count": null,
   "metadata": {},
   "outputs": [],
   "source": [
    "net.fit(train_dataset, y=None)"
   ]
  },
  {
   "cell_type": "markdown",
   "metadata": {},
   "source": [
    "### Model Evaluation"
   ]
  },
  {
   "cell_type": "code",
   "execution_count": 27,
   "metadata": {},
   "outputs": [],
   "source": [
    "#net.save_params(f_params='final_wbc_net_all_.pth')\n",
    "model = PretrainedModel(num_classes, num_channels)\n",
    "checkpoint = torch.load('models/wbc_net_all_.pth')\n",
    "model.load_state_dict(checkpoint)\n",
    "model = model.to(device)"
   ]
  },
  {
   "cell_type": "code",
   "execution_count": 28,
   "metadata": {},
   "outputs": [],
   "source": [
    "correct = 0.\n",
    "total = 0.\n",
    "y_true = list()\n",
    "y_pred = list()\n",
    "y_true_proba = list()\n",
    "with torch.no_grad():\n",
    "    for data in test_loader:\n",
    "        inputs, labels = data[0].to(device).float(), data[1].to(device).long()\n",
    "        #Tracer()()\n",
    "        outputs = model(inputs)\n",
    "        pred = outputs.argmax(dim=1)\n",
    "        true_proba = np.array([j[i] for (i,j) in zip(pred, outputs)])\n",
    "        _, predicted = torch.max(outputs.data, 1)\n",
    "        total += labels.size(0)\n",
    "        correct += (labels.reshape(-1) == predicted).sum().item()\n",
    "        for i in range(len(pred)):\n",
    "            y_true.append(labels[i].item())\n",
    "            y_pred.append(pred[i].item())\n",
    "            y_true_proba.append(true_proba[i].item())"
   ]
  },
  {
   "cell_type": "code",
   "execution_count": 29,
   "metadata": {},
   "outputs": [],
   "source": [
    "class_names_targets = [c.decode(\"utf-8\") for c in label_map.keys()]"
   ]
  },
  {
   "cell_type": "code",
   "execution_count": 30,
   "metadata": {},
   "outputs": [
    {
     "name": "stdout",
     "output_type": "stream",
     "text": [
      "                  precision    recall  f1-score   support\n",
      "\n",
      "  CD14+ monocyte     0.9697    1.0000    0.9846       256\n",
      "CD15+ neutrophil     0.9970    0.9986    0.9978      3665\n",
      "         CD19+ B     0.9886    0.9719    0.9802       178\n",
      "          CD4+ T     0.9898    0.9788    0.9843       895\n",
      "        CD56+ NK     0.9917    0.8955    0.9412       134\n",
      "          CD8+ T     0.9366    0.9497    0.9431       358\n",
      "             NKT     0.8263    0.7621    0.7929       206\n",
      "      eosinophil     0.9838    0.9902    0.9870       307\n",
      "         unknown     0.8058    0.8716    0.8374       257\n",
      "\n",
      "        accuracy                         0.9767      6256\n",
      "       macro avg     0.9433    0.9354    0.9387      6256\n",
      "    weighted avg     0.9769    0.9767    0.9766      6256\n",
      "\n"
     ]
    }
   ],
   "source": [
    "print(classification_report(y_true, y_pred, target_names=class_names_targets, digits=4))"
   ]
  },
  {
   "cell_type": "markdown",
   "metadata": {},
   "source": [
    "### Model Interpretation"
   ]
  },
  {
   "cell_type": "code",
   "execution_count": 31,
   "metadata": {},
   "outputs": [],
   "source": [
    "# where to save results\n",
    "model_name = \"wbc\""
   ]
  },
  {
   "cell_type": "markdown",
   "metadata": {},
   "source": [
    "#### Pixel-Permutation Tests"
   ]
  },
  {
   "cell_type": "code",
   "execution_count": 32,
   "metadata": {},
   "outputs": [],
   "source": [
    "from time import process_time"
   ]
  },
  {
   "cell_type": "code",
   "execution_count": 33,
   "metadata": {},
   "outputs": [
    {
     "name": "stdout",
     "output_type": "stream",
     "text": [
      "Candidate channel is 0\n"
     ]
    },
    {
     "data": {
      "image/png": "[encoded data removed]",
      "text/plain": [
       "<Figure size 720x360 with 1 Axes>"
      ]
     },
     "metadata": {
      "needs_background": "light"
     },
     "output_type": "display_data"
    },
    {
     "data": {
      "image/png": "[encoded data removed]",
      "text/plain": [
       "<Figure size 720x360 with 1 Axes>"
      ]
     },
     "metadata": {
      "needs_background": "light"
     },
     "output_type": "display_data"
    },
    {
     "data": {
      "image/png": "[encoded data removed]",
      "text/plain": [
       "<Figure size 720x360 with 1 Axes>"
      ]
     },
     "metadata": {
      "needs_background": "light"
     },
     "output_type": "display_data"
    },
    {
     "data": {
      "image/png": "[encoded data removed]",
      "text/plain": [
       "<Figure size 720x360 with 1 Axes>"
      ]
     },
     "metadata": {
      "needs_background": "light"
     },
     "output_type": "display_data"
    },
    {
     "data": {
      "image/png": "[encoded data removed]",
      "text/plain": [
       "<Figure size 720x360 with 1 Axes>"
      ]
     },
     "metadata": {
      "needs_background": "light"
     },
     "output_type": "display_data"
    },
    {
     "data": {
      "image/png": "[encoded data removed]",
      "text/plain": [
       "<Figure size 720x360 with 1 Axes>"
      ]
     },
     "metadata": {
      "needs_background": "light"
     },
     "output_type": "display_data"
    },
    {
     "data": {
      "image/png": "[encoded data removed]",
      "text/plain": [
       "<Figure size 720x360 with 1 Axes>"
      ]
     },
     "metadata": {
      "needs_background": "light"
     },
     "output_type": "display_data"
    },
    {
     "data": {
      "image/png": "[encoded data removed]",
      "text/plain": [
       "<Figure size 720x360 with 1 Axes>"
      ]
     },
     "metadata": {
      "needs_background": "light"
     },
     "output_type": "display_data"
    },
    {
     "data": {
      "image/png": "[encoded data removed]",
      "text/plain": [
       "<Figure size 720x360 with 1 Axes>"
      ]
     },
     "metadata": {
      "needs_background": "light"
     },
     "output_type": "display_data"
    },
    {
     "data": {
      "image/png": "[encoded data removed]",
      "text/plain": [
       "<Figure size 720x360 with 1 Axes>"
      ]
     },
     "metadata": {
      "needs_background": "light"
     },
     "output_type": "display_data"
    },
    {
     "data": {
      "image/png": "[encoded data removed]",
      "text/plain": [
       "<Figure size 720x360 with 1 Axes>"
      ]
     },
     "metadata": {
      "needs_background": "light"
     },
     "output_type": "display_data"
    },
    {
     "data": {
      "image/png": "[encoded data removed]",
      "text/plain": [
       "<Figure size 720x360 with 1 Axes>"
      ]
     },
     "metadata": {
      "needs_background": "light"
     },
     "output_type": "display_data"
    }
   ],
   "source": [
    "t1_start = process_time()\n",
    "f1_score_original = f1_score(y_true, y_pred, average=None, labels=np.arange(num_classes))\n",
    "min_mean_dif = 1.0\n",
    "candidate = 0\n",
    "shuffle_times = 100\n",
    "df_all = pd.DataFrame([], columns=class_names_targets)\n",
    "for c in range(num_channels):\n",
    "    f1_score_diff_from_original_per_channel_per_shuffle = []\n",
    "    transform = test_transform.copy()\n",
    "    transform.append(ShuffleChannel(channels_to_shuffle=[c]))\n",
    "    for s in range(shuffle_times):\n",
    "        dataset = DatasetGenerator(metadata=metadata.loc[test_index,:],\n",
    "                                 label_map=label_map,\n",
    "                                 selected_channels=selected_channels,\n",
    "                                 scaling_factor=scaling_factor,\n",
    "                                 reshape_size=reshape_size,\n",
    "                                 transform=transforms.Compose(transform))\n",
    "        dataloader = DataLoader(dataset,\n",
    "                                batch_size=batch_size,\n",
    "                                shuffle=False,\n",
    "                                num_workers=num_workers)\n",
    "        y_true = list()\n",
    "        y_pred = list()\n",
    "        with torch.no_grad():\n",
    "            for data in dataloader:\n",
    "                inputs, labels = data[0].to(device).float(), data[1].to(device).reshape(-1).long()\n",
    "                outputs = model(inputs)\n",
    "                pred = outputs.argmax(dim=1)\n",
    "                for i in range(len(pred)):\n",
    "                    y_true.append(labels[i].item())\n",
    "                    y_pred.append(pred[i].item())\n",
    "            f1_score_per_channel = f1_score(y_true, y_pred, average=None, labels=np.arange(num_classes))\n",
    "            f1_score_diff_from_original_per_channel_per_shuffle.append(f1_score_original - f1_score_per_channel)\n",
    "    mean_along_columns = np.mean(f1_score_diff_from_original_per_channel_per_shuffle, axis=0)\n",
    "    mean_dif = np.mean(mean_along_columns)\n",
    "    if mean_dif < min_mean_dif and mean_dif > 0 and not selected_channels[c]:\n",
    "        min_mean_dif = mean_dif\n",
    "        candidate = selected_channels[c]\n",
    "    df_diff = pd.DataFrame(np.atleast_2d(f1_score_diff_from_original_per_channel_per_shuffle), columns=class_names_targets)\n",
    "    df_mean_diff = pd.DataFrame(np.atleast_2d(mean_along_columns), columns=class_names_targets)\n",
    "    df_all = pd.concat([df_all, df_mean_diff], ignore_index=True, sort=False)\n",
    "    fig, ax = plt.subplots(figsize=(10, 5))\n",
    "    ax = df_diff.boxplot()\n",
    "    ax.set_xticklabels(class_names_targets, rotation=45)\n",
    "    fig.savefig(os.path.join(\"results\",model_name, \"{}-shuffle_method-model-{}-channel-{}.png\".format(dataset_name, str(model_name), str(selected_channels[c]))))\n",
    "print(\"Candidate channel is {}\".format(candidate))"
   ]
  },
  {
   "cell_type": "code",
   "execution_count": 34,
   "metadata": {},
   "outputs": [
    {
     "data": {
      "text/html": [
       "<div>\n",
       "<style scoped>\n",
       "    .dataframe tbody tr th:only-of-type {\n",
       "        vertical-align: middle;\n",
       "    }\n",
       "\n",
       "    .dataframe tbody tr th {\n",
       "        vertical-align: top;\n",
       "    }\n",
       "\n",
       "    .dataframe thead th {\n",
       "        text-align: right;\n",
       "    }\n",
       "</style>\n",
       "<table border=\"1\" class=\"dataframe\">\n",
       "  <thead>\n",
       "    <tr style=\"text-align: right;\">\n",
       "      <th></th>\n",
       "      <th>CD14+ monocyte</th>\n",
       "      <th>CD15+ neutrophil</th>\n",
       "      <th>CD19+ B</th>\n",
       "      <th>CD4+ T</th>\n",
       "      <th>CD56+ NK</th>\n",
       "      <th>CD8+ T</th>\n",
       "      <th>NKT</th>\n",
       "      <th>eosinophil</th>\n",
       "      <th>unknown</th>\n",
       "    </tr>\n",
       "  </thead>\n",
       "  <tbody>\n",
       "    <tr>\n",
       "      <th>0</th>\n",
       "      <td>0.001134</td>\n",
       "      <td>-0.000272</td>\n",
       "      <td>-0.001152</td>\n",
       "      <td>0.000121</td>\n",
       "      <td>-0.000092</td>\n",
       "      <td>0.000294</td>\n",
       "      <td>-0.001815</td>\n",
       "      <td>-0.002605</td>\n",
       "      <td>-0.000556</td>\n",
       "    </tr>\n",
       "    <tr>\n",
       "      <th>1</th>\n",
       "      <td>0.011454</td>\n",
       "      <td>0.018154</td>\n",
       "      <td>0.101029</td>\n",
       "      <td>-0.000315</td>\n",
       "      <td>0.055983</td>\n",
       "      <td>0.008017</td>\n",
       "      <td>0.009528</td>\n",
       "      <td>0.011087</td>\n",
       "      <td>0.207658</td>\n",
       "    </tr>\n",
       "    <tr>\n",
       "      <th>2</th>\n",
       "      <td>0.0</td>\n",
       "      <td>0.000081</td>\n",
       "      <td>0.002328</td>\n",
       "      <td>0.000004</td>\n",
       "      <td>0.0</td>\n",
       "      <td>0.003034</td>\n",
       "      <td>0.004501</td>\n",
       "      <td>0.000702</td>\n",
       "      <td>0.004045</td>\n",
       "    </tr>\n",
       "    <tr>\n",
       "      <th>3</th>\n",
       "      <td>0.019511</td>\n",
       "      <td>-0.000109</td>\n",
       "      <td>-0.004704</td>\n",
       "      <td>0.000346</td>\n",
       "      <td>0.00407</td>\n",
       "      <td>0.005446</td>\n",
       "      <td>0.03257</td>\n",
       "      <td>-0.002312</td>\n",
       "      <td>0.023644</td>\n",
       "    </tr>\n",
       "    <tr>\n",
       "      <th>4</th>\n",
       "      <td>0.001134</td>\n",
       "      <td>-0.000273</td>\n",
       "      <td>0.139804</td>\n",
       "      <td>0.000571</td>\n",
       "      <td>-0.002573</td>\n",
       "      <td>-0.002894</td>\n",
       "      <td>-0.006263</td>\n",
       "      <td>-0.002918</td>\n",
       "      <td>0.059603</td>\n",
       "    </tr>\n",
       "    <tr>\n",
       "      <th>5</th>\n",
       "      <td>0.061637</td>\n",
       "      <td>0.003052</td>\n",
       "      <td>0.035438</td>\n",
       "      <td>0.001376</td>\n",
       "      <td>-0.002037</td>\n",
       "      <td>0.015627</td>\n",
       "      <td>0.005297</td>\n",
       "      <td>0.153514</td>\n",
       "      <td>0.149612</td>\n",
       "    </tr>\n",
       "    <tr>\n",
       "      <th>6</th>\n",
       "      <td>0.005812</td>\n",
       "      <td>-0.000109</td>\n",
       "      <td>-0.001039</td>\n",
       "      <td>0.001033</td>\n",
       "      <td>-0.000097</td>\n",
       "      <td>-0.001696</td>\n",
       "      <td>0.042528</td>\n",
       "      <td>-0.003247</td>\n",
       "      <td>0.014715</td>\n",
       "    </tr>\n",
       "    <tr>\n",
       "      <th>7</th>\n",
       "      <td>0.002266</td>\n",
       "      <td>-0.000301</td>\n",
       "      <td>0.028743</td>\n",
       "      <td>0.00035</td>\n",
       "      <td>0.112677</td>\n",
       "      <td>0.006148</td>\n",
       "      <td>0.051868</td>\n",
       "      <td>-0.00449</td>\n",
       "      <td>0.071712</td>\n",
       "    </tr>\n",
       "    <tr>\n",
       "      <th>8</th>\n",
       "      <td>0.000756</td>\n",
       "      <td>-0.000409</td>\n",
       "      <td>-0.002881</td>\n",
       "      <td>-0.000225</td>\n",
       "      <td>-0.004136</td>\n",
       "      <td>0.000261</td>\n",
       "      <td>-0.0022</td>\n",
       "      <td>-0.003901</td>\n",
       "      <td>-0.002124</td>\n",
       "    </tr>\n",
       "    <tr>\n",
       "      <th>9</th>\n",
       "      <td>0.00392</td>\n",
       "      <td>0.0</td>\n",
       "      <td>0.017367</td>\n",
       "      <td>0.141706</td>\n",
       "      <td>-0.012167</td>\n",
       "      <td>0.000717</td>\n",
       "      <td>0.196971</td>\n",
       "      <td>-0.002284</td>\n",
       "      <td>0.13872</td>\n",
       "    </tr>\n",
       "    <tr>\n",
       "      <th>10</th>\n",
       "      <td>0.003831</td>\n",
       "      <td>-0.000409</td>\n",
       "      <td>-0.006888</td>\n",
       "      <td>-0.002653</td>\n",
       "      <td>0.298973</td>\n",
       "      <td>0.048438</td>\n",
       "      <td>0.275366</td>\n",
       "      <td>-0.002919</td>\n",
       "      <td>0.131982</td>\n",
       "    </tr>\n",
       "    <tr>\n",
       "      <th>11</th>\n",
       "      <td>0.002266</td>\n",
       "      <td>0.000462</td>\n",
       "      <td>0.013083</td>\n",
       "      <td>-0.000429</td>\n",
       "      <td>-0.007582</td>\n",
       "      <td>0.185168</td>\n",
       "      <td>0.020715</td>\n",
       "      <td>-0.00097</td>\n",
       "      <td>0.144815</td>\n",
       "    </tr>\n",
       "  </tbody>\n",
       "</table>\n",
       "</div>"
      ],
      "text/plain": [
       "   CD14+ monocyte CD15+ neutrophil   CD19+ B    CD4+ T  CD56+ NK    CD8+ T  \\\n",
       "0        0.001134        -0.000272 -0.001152  0.000121 -0.000092  0.000294   \n",
       "1        0.011454         0.018154  0.101029 -0.000315  0.055983  0.008017   \n",
       "2             0.0         0.000081  0.002328  0.000004       0.0  0.003034   \n",
       "3        0.019511        -0.000109 -0.004704  0.000346   0.00407  0.005446   \n",
       "4        0.001134        -0.000273  0.139804  0.000571 -0.002573 -0.002894   \n",
       "5        0.061637         0.003052  0.035438  0.001376 -0.002037  0.015627   \n",
       "6        0.005812        -0.000109 -0.001039  0.001033 -0.000097 -0.001696   \n",
       "7        0.002266        -0.000301  0.028743   0.00035  0.112677  0.006148   \n",
       "8        0.000756        -0.000409 -0.002881 -0.000225 -0.004136  0.000261   \n",
       "9         0.00392              0.0  0.017367  0.141706 -0.012167  0.000717   \n",
       "10       0.003831        -0.000409 -0.006888 -0.002653  0.298973  0.048438   \n",
       "11       0.002266         0.000462  0.013083 -0.000429 -0.007582  0.185168   \n",
       "\n",
       "         NKT eosinophil   unknown  \n",
       "0  -0.001815  -0.002605 -0.000556  \n",
       "1   0.009528   0.011087  0.207658  \n",
       "2   0.004501   0.000702  0.004045  \n",
       "3    0.03257  -0.002312  0.023644  \n",
       "4  -0.006263  -0.002918  0.059603  \n",
       "5   0.005297   0.153514  0.149612  \n",
       "6   0.042528  -0.003247  0.014715  \n",
       "7   0.051868   -0.00449  0.071712  \n",
       "8    -0.0022  -0.003901 -0.002124  \n",
       "9   0.196971  -0.002284   0.13872  \n",
       "10  0.275366  -0.002919  0.131982  \n",
       "11  0.020715   -0.00097  0.144815  "
      ]
     },
     "execution_count": 34,
     "metadata": {},
     "output_type": "execute_result"
    }
   ],
   "source": [
    "df_all"
   ]
  },
  {
   "cell_type": "code",
   "execution_count": 55,
   "metadata": {},
   "outputs": [
    {
     "data": {
      "image/png": "[encoded data removed]",
      "text/plain": [
       "<Figure size 432x288 with 1 Axes>"
      ]
     },
     "metadata": {
      "needs_background": "light"
     },
     "output_type": "display_data"
    }
   ],
   "source": [
    "plt.bar(channels[selected_channels], df_all.T.mean(), color='Grey')\n",
    "plt.savefig(os.path.join(\"results\",model_name, \"{}-pixel-permutation-method-model-all-{}.svg\".format(dataset_name, str(\"resnet_all\"))))"
   ]
  },
  {
   "cell_type": "code",
   "execution_count": 36,
   "metadata": {},
   "outputs": [],
   "source": [
    "channel_ranking_pixel_permutation = pd.DataFrame(data={'channels': channels[np.asarray(selected_channels)], 'importance': df_all.T.mean().to_numpy()})"
   ]
  },
  {
   "cell_type": "code",
   "execution_count": 37,
   "metadata": {},
   "outputs": [
    {
     "data": {
      "text/html": [
       "<div>\n",
       "<style scoped>\n",
       "    .dataframe tbody tr th:only-of-type {\n",
       "        vertical-align: middle;\n",
       "    }\n",
       "\n",
       "    .dataframe tbody tr th {\n",
       "        vertical-align: top;\n",
       "    }\n",
       "\n",
       "    .dataframe thead th {\n",
       "        text-align: right;\n",
       "    }\n",
       "</style>\n",
       "<table border=\"1\" class=\"dataframe\">\n",
       "  <thead>\n",
       "    <tr style=\"text-align: right;\">\n",
       "      <th></th>\n",
       "      <th>channels</th>\n",
       "      <th>importance</th>\n",
       "    </tr>\n",
       "  </thead>\n",
       "  <tbody>\n",
       "    <tr>\n",
       "      <th>0</th>\n",
       "      <td>Ch0</td>\n",
       "      <td>-0.000549</td>\n",
       "    </tr>\n",
       "    <tr>\n",
       "      <th>1</th>\n",
       "      <td>Ch1</td>\n",
       "      <td>0.046955</td>\n",
       "    </tr>\n",
       "    <tr>\n",
       "      <th>2</th>\n",
       "      <td>Ch2</td>\n",
       "      <td>0.001633</td>\n",
       "    </tr>\n",
       "    <tr>\n",
       "      <th>3</th>\n",
       "      <td>Ch3</td>\n",
       "      <td>0.008718</td>\n",
       "    </tr>\n",
       "    <tr>\n",
       "      <th>4</th>\n",
       "      <td>Ch4</td>\n",
       "      <td>0.020688</td>\n",
       "    </tr>\n",
       "    <tr>\n",
       "      <th>5</th>\n",
       "      <td>Ch5</td>\n",
       "      <td>0.047057</td>\n",
       "    </tr>\n",
       "    <tr>\n",
       "      <th>6</th>\n",
       "      <td>Ch6</td>\n",
       "      <td>0.006433</td>\n",
       "    </tr>\n",
       "    <tr>\n",
       "      <th>7</th>\n",
       "      <td>Ch7</td>\n",
       "      <td>0.029886</td>\n",
       "    </tr>\n",
       "    <tr>\n",
       "      <th>8</th>\n",
       "      <td>Ch8</td>\n",
       "      <td>-0.001651</td>\n",
       "    </tr>\n",
       "    <tr>\n",
       "      <th>9</th>\n",
       "      <td>Ch9</td>\n",
       "      <td>0.053884</td>\n",
       "    </tr>\n",
       "    <tr>\n",
       "      <th>10</th>\n",
       "      <td>Ch10</td>\n",
       "      <td>0.082858</td>\n",
       "    </tr>\n",
       "    <tr>\n",
       "      <th>11</th>\n",
       "      <td>Ch11</td>\n",
       "      <td>0.039725</td>\n",
       "    </tr>\n",
       "  </tbody>\n",
       "</table>\n",
       "</div>"
      ],
      "text/plain": [
       "   channels  importance\n",
       "0       Ch0   -0.000549\n",
       "1       Ch1    0.046955\n",
       "2       Ch2    0.001633\n",
       "3       Ch3    0.008718\n",
       "4       Ch4    0.020688\n",
       "5       Ch5    0.047057\n",
       "6       Ch6    0.006433\n",
       "7       Ch7    0.029886\n",
       "8       Ch8   -0.001651\n",
       "9       Ch9    0.053884\n",
       "10     Ch10    0.082858\n",
       "11     Ch11    0.039725"
      ]
     },
     "execution_count": 37,
     "metadata": {},
     "output_type": "execute_result"
    }
   ],
   "source": [
    "channel_ranking_pixel_permutation"
   ]
  },
  {
   "cell_type": "markdown",
   "metadata": {},
   "source": [
    "### Evaluate the method with AOPC"
   ]
  },
  {
   "cell_type": "code",
   "execution_count": 38,
   "metadata": {},
   "outputs": [],
   "source": [
    "def calculate_aopc(channel_ranking, method='', ascending=False, plot=True, perturb=False):\n",
    "    #channel_ranking = pd.DataFrame(data={\"channels\":channels_ranking, \"importance\": importance})\n",
    "    sorted_channels = channel_ranking.sort_values(by=\"importance\", ascending=ascending)\n",
    "    channels_to_permute=[]\n",
    "    differences = []\n",
    "    # calculate (f^0 - f^k)\n",
    "    for i in range(len(sorted_channels)):\n",
    "        channels_to_permute.append(np.where(channels==sorted_channels.iloc[i][\"channels\"])[0][0])\n",
    "        transform = test_transform.copy()\n",
    "        transform.append(ShuffleChannel(channels_to_shuffle=channels_to_permute, perturb=perturb))\n",
    "        dataset_ = DatasetGenerator(metadata=metadata.loc[test_index,:],\n",
    "                                 label_map=label_map,\n",
    "                                 selected_channels=selected_channels,\n",
    "                                 scaling_factor=scaling_factor,\n",
    "                                 reshape_size=reshape_size,\n",
    "                                 transform=transforms.Compose(transform))\n",
    "        dataloader_ = DataLoader(dataset_,\n",
    "                                batch_size=batch_size,\n",
    "                                shuffle=False,\n",
    "                                num_workers=num_workers)\n",
    "        \n",
    "        y_true_permut_proba = list()\n",
    "        with torch.no_grad():\n",
    "            for data in dataloader_:\n",
    "                inputs, labels = data[0].to(device).float(), data[1].to(device).long()\n",
    "                outputs = model(inputs)\n",
    "                pred = outputs.argmax(dim=1)\n",
    "                permut_proba = np.array([j[i] for (i,j) in zip(pred, outputs)])\n",
    "                _, predicted = torch.max(outputs.data, 1)\n",
    "                for i in range(len(pred)):\n",
    "                    y_true_permut_proba.append(permut_proba[i].item())\n",
    "        differences.append(y_true_proba-np.array(y_true_permut_proba))\n",
    "    stacked_diff = np.stack(differences)\n",
    "    # calculate summ(f^0-f^k)\n",
    "    diff_accumulated = []\n",
    "    for idx, diff in enumerate(stacked_diff):\n",
    "        if idx==0:\n",
    "            diff_accumulated.append(stacked_diff[idx])\n",
    "        else:\n",
    "            diff_accumulated.append(diff_accumulated[idx-1] + stacked_diff[idx])\n",
    "    diff_accumulated = np.stack(diff_accumulated)\n",
    "    # mean over the test set\n",
    "    diff_accumulated_mean = np.mean(diff_accumulated, axis=-1)\n",
    "    # divide by 1/L+1\n",
    "    diff_accumulated_mean_norm = np.array([])\n",
    "    for ix, d in enumerate(diff_accumulated_mean):\n",
    "        diff_accumulated_mean_norm = np.append(diff_accumulated_mean_norm, d/(ix+1))\n",
    "    # insert (0,0)\n",
    "    diff_accumulated_mean_norm_started_from_0 = np.insert(diff_accumulated_mean_norm,0,0.0)\n",
    "    # plot line\n",
    "    if plot:\n",
    "        x = np.arange(len(diff_accumulated_mean_norm_started_from_0))\n",
    "        plt.xlabel(\"permutation steps\")\n",
    "        plt.ylabel(\"AOPC\")\n",
    "        plt.plot(x, diff_accumulated_mean_norm_started_from_0, color =\"red\")\n",
    "        #plt.show()\n",
    "        plt.savefig(os.path.join(\"results\",model_name, \"{}-aopc-{}-{}.svg\".format(dataset_name, method, str(\"resnet_all\"))))\n",
    "    return diff_accumulated_mean_norm_started_from_0"
   ]
  },
  {
   "cell_type": "code",
   "execution_count": 39,
   "metadata": {},
   "outputs": [
    {
     "data": {
      "image/png": "[encoded data removed]",
      "text/plain": [
       "<Figure size 432x288 with 1 Axes>"
      ]
     },
     "metadata": {
      "needs_background": "light"
     },
     "output_type": "display_data"
    }
   ],
   "source": [
    "res_pixel_permutated_perturb_reverse = calculate_aopc(channel_ranking_pixel_permutation, method='pixel-permutation-perturb', perturb=True, ascending=False)"
   ]
  },
  {
   "cell_type": "markdown",
   "metadata": {},
   "source": [
    "### Interpretation by methods from captum"
   ]
  },
  {
   "cell_type": "code",
   "execution_count": 40,
   "metadata": {},
   "outputs": [],
   "source": [
    "from captum.attr import (\n",
    "    GuidedGradCam,\n",
    "    DeepLift,\n",
    "    Saliency,\n",
    "    DeepLiftShap,\n",
    "    GradientShap,\n",
    "    InputXGradient,\n",
    "    IntegratedGradients,\n",
    "    GuidedBackprop,\n",
    "    Deconvolution,\n",
    "    Occlusion,\n",
    "    FeaturePermutation,\n",
    "    ShapleyValueSampling,\n",
    "    Lime,\n",
    "    KernelShap,\n",
    "    LRP\n",
    ")\n",
    "from time import process_time"
   ]
  },
  {
   "cell_type": "code",
   "execution_count": 41,
   "metadata": {},
   "outputs": [],
   "source": [
    "def run_interpretation_method(ablator, method_name, require_baseline=False, require_sliding_window=False):\n",
    "    t1_start = process_time()\n",
    "    dataset = DatasetGenerator(metadata=metadata.loc[test_index,:],\n",
    "                                     label_map=label_map,\n",
    "                                     selected_channels=selected_channels,\n",
    "                                     scaling_factor=scaling_factor,\n",
    "                                     reshape_size=reshape_size,\n",
    "                                     transform=transforms.Compose(test_transform))\n",
    "    testloader = DataLoader(test_dataset,\n",
    "                                    batch_size=batch_size,\n",
    "                                    shuffle=False,\n",
    "                                    num_workers=num_workers)\n",
    "\n",
    "    heatmaps = torch.empty(0, dtype=torch.float32, device=device)\n",
    "    with torch.no_grad():\n",
    "        for data in testloader:\n",
    "            inputs, labels = data[0].to(device).float(), data[1].to(device).reshape(-1).long()\n",
    "            if require_baseline:\n",
    "                baselines=torch.zeros(inputs.shape).to(device)\n",
    "                attr = ablator.attribute(inputs, target=labels, baselines=baselines)\n",
    "            elif require_sliding_window:\n",
    "                attr = ablator.attribute(inputs, target=labels, sliding_window_shapes=(1,3,3))\n",
    "            else:\n",
    "                attr = ablator.attribute(inputs, target=labels)\n",
    "            heatmaps = torch.cat((heatmaps,  torch.from_numpy(np.percentile(torch.flatten(attr, start_dim=-2).cpu().numpy(), q=50, axis=-1)).to(device)))\n",
    "    heatmaps_mean = torch.mean(heatmaps, dim=0)\n",
    "    plt.bar(channels, heatmaps_mean.cpu(), color='grey')\n",
    "    plt.savefig(os.path.join(\"results\", \"resnet_all\", \"{}-{}_method-model-50-percentile-{}.png\".format(dataset_name, method_name, str(\"resnet_all\"))))\n",
    "\n",
    "    t1_stop = process_time()\n",
    "    print(\"Elapsed time:\", t1_stop, t1_start) \n",
    "\n",
    "    print(\"Elapsed time during the whole program in seconds:\",\n",
    "                                             t1_stop-t1_start)\n",
    "    return heatmaps_mean"
   ]
  },
  {
   "cell_type": "markdown",
   "metadata": {},
   "source": [
    "#### Occlusion"
   ]
  },
  {
   "cell_type": "code",
   "execution_count": null,
   "metadata": {},
   "outputs": [],
   "source": [
    "occl = Occlusion(model)\n",
    "heatmaps_occl_mean = run_interpretation_method(occl, 'Occlusion', require_sliding_window=True)"
   ]
  },
  {
   "cell_type": "code",
   "execution_count": null,
   "metadata": {},
   "outputs": [],
   "source": [
    "channel_ranking_occlusion = pd.DataFrame(data={'channels': channels[selected_channels], 'importance': heatmaps_occl_mean.cpu().numpy()})\n",
    "res_pixel_occl_perturb_reverse = calculate_aopc(channel_ranking_occlusion, method='occlusion-aopc', ascending=False, perturb=True)"
   ]
  },
  {
   "cell_type": "markdown",
   "metadata": {},
   "source": [
    "#### DeepLift"
   ]
  },
  {
   "cell_type": "code",
   "execution_count": 42,
   "metadata": {},
   "outputs": [
    {
     "name": "stdout",
     "output_type": "stream",
     "text": [
      "Elapsed time: 11448.15625 10429.171875\n",
      "Elapsed time during the whole program in seconds: 1018.984375\n"
     ]
    },
    {
     "data": {
      "image/png": "[encoded data removed]",
      "text/plain": [
       "<Figure size 432x288 with 1 Axes>"
      ]
     },
     "metadata": {
      "needs_background": "light"
     },
     "output_type": "display_data"
    }
   ],
   "source": [
    "dl = DeepLift(model)\n",
    "heatmaps_deeplift_mean = run_interpretation_method(dl, 'dl')"
   ]
  },
  {
   "cell_type": "code",
   "execution_count": 43,
   "metadata": {},
   "outputs": [
    {
     "data": {
      "image/png": "[encoded data removed]",
      "text/plain": [
       "<Figure size 432x288 with 1 Axes>"
      ]
     },
     "metadata": {
      "needs_background": "light"
     },
     "output_type": "display_data"
    }
   ],
   "source": [
    "channel_ranking_deep_lift = pd.DataFrame(data={'channels': channels[selected_channels], 'importance': heatmaps_deeplift_mean.cpu().numpy()})\n",
    "res_deep_lift_perturb_reverse = calculate_aopc(channel_ranking_deep_lift, method='deep-lift-aopc', ascending=False, perturb=True)"
   ]
  },
  {
   "cell_type": "markdown",
   "metadata": {},
   "source": [
    "#### Saliency"
   ]
  },
  {
   "cell_type": "code",
   "execution_count": null,
   "metadata": {},
   "outputs": [],
   "source": [
    "saliency = Saliency(model)\n",
    "heatmaps_saliency_mean = run_interpretation_method(saliency, 'saliency')"
   ]
  },
  {
   "cell_type": "code",
   "execution_count": null,
   "metadata": {},
   "outputs": [],
   "source": [
    "channel_ranking_saliency = pd.DataFrame(data={'channels': channels[selected_channels], 'importance': heatmaps_saliency_mean.cpu().numpy()})\n",
    "res_saliency_perturb_reverse = calculate_aopc(channel_ranking_saliency, method='saliency-aopc', ascending=False, perturb=True)"
   ]
  },
  {
   "cell_type": "markdown",
   "metadata": {},
   "source": [
    "#### Integrated Gradients"
   ]
  },
  {
   "cell_type": "code",
   "execution_count": 44,
   "metadata": {},
   "outputs": [
    {
     "name": "stdout",
     "output_type": "stream",
     "text": [
      "Elapsed time: 31172.9375 12931.25\n",
      "Elapsed time during the whole program in seconds: 18241.6875\n"
     ]
    },
    {
     "data": {
      "image/png": "[encoded data removed]",
      "text/plain": [
       "<Figure size 432x288 with 1 Axes>"
      ]
     },
     "metadata": {
      "needs_background": "light"
     },
     "output_type": "display_data"
    }
   ],
   "source": [
    "ig = IntegratedGradients(model)\n",
    "heatmaps_integrated_gradient_mean = run_interpretation_method(ig, 'IntegratedGradients')"
   ]
  },
  {
   "cell_type": "code",
   "execution_count": 45,
   "metadata": {},
   "outputs": [
    {
     "data": {
      "image/png": "[encoded data removed]",
      "text/plain": [
       "<Figure size 432x288 with 1 Axes>"
      ]
     },
     "metadata": {
      "needs_background": "light"
     },
     "output_type": "display_data"
    }
   ],
   "source": [
    "channel_ranking_integrated_gradient = pd.DataFrame(data={'channels': channels[selected_channels], 'importance': heatmaps_integrated_gradient_mean.cpu().numpy()})\n",
    "res_integrated_gradient_perturb_reverse = calculate_aopc(channel_ranking_integrated_gradient, method='integrated_gradient-aopc', ascending=False, perturb=True)"
   ]
  },
  {
   "cell_type": "markdown",
   "metadata": {},
   "source": [
    "#### LIME"
   ]
  },
  {
   "cell_type": "code",
   "execution_count": null,
   "metadata": {},
   "outputs": [],
   "source": [
    "lime = Lime(model)\n",
    "heatmaps_lime_mean = run_interpretation_method(lime, 'Lime')"
   ]
  },
  {
   "cell_type": "code",
   "execution_count": null,
   "metadata": {},
   "outputs": [],
   "source": [
    "channel_ranking_lime = pd.DataFrame(data={'channels': channels[selected_channels], 'importance': heatmaps_lime_mean.cpu().numpy()})\n",
    "res_lime_mean_perturb_reverse = calculate_aopc(channel_ranking_lime, method='lime-aopc', ascending=False, perturb=True)"
   ]
  },
  {
   "cell_type": "markdown",
   "metadata": {},
   "source": [
    "#### Deconvolution"
   ]
  },
  {
   "cell_type": "code",
   "execution_count": null,
   "metadata": {},
   "outputs": [],
   "source": [
    "deconv = Deconvolution(model)\n",
    "heatmaps_deconv_mean = run_interpretation_method(deconv, 'Deconvolution')"
   ]
  },
  {
   "cell_type": "code",
   "execution_count": null,
   "metadata": {},
   "outputs": [],
   "source": [
    "channel_ranking_deconv = pd.DataFrame(data={'channels': channels[selected_channels], 'importance': heatmaps_deconv_mean.cpu().numpy()})\n",
    "res_deconv_mean_perturb_reverse = calculate_aopc(channel_ranking_deconv, method='deconv-aopc', ascending=False, perturb=True)"
   ]
  },
  {
   "cell_type": "markdown",
   "metadata": {},
   "source": [
    "#### LRP"
   ]
  },
  {
   "cell_type": "code",
   "execution_count": null,
   "metadata": {},
   "outputs": [],
   "source": [
    "lrp = LRP(model)\n",
    "heatmaps_lrp_mean = run_interpretation_method(lrp, 'LRP')"
   ]
  },
  {
   "cell_type": "code",
   "execution_count": null,
   "metadata": {},
   "outputs": [],
   "source": [
    "channel_ranking_lrp = pd.DataFrame(data={'channels': channels[selected_channels], 'importance': heatmaps_lrp_mean.cpu().numpy()})\n",
    "res_lrp_mean_perturb_reverse = calculate_aopc(channel_ranking_lrp, method='lrp-aopc', ascending=False, perturb=True)"
   ]
  },
  {
   "cell_type": "markdown",
   "metadata": {},
   "source": [
    "#### Guided GradCAM"
   ]
  },
  {
   "cell_type": "code",
   "execution_count": 46,
   "metadata": {},
   "outputs": [
    {
     "name": "stdout",
     "output_type": "stream",
     "text": [
      "Elapsed time: 33489.09375 32679.75\n",
      "Elapsed time during the whole program in seconds: 809.34375\n"
     ]
    },
    {
     "data": {
      "image/png": "[encoded data removed]",
      "text/plain": [
       "<Figure size 432x288 with 1 Axes>"
      ]
     },
     "metadata": {
      "needs_background": "light"
     },
     "output_type": "display_data"
    }
   ],
   "source": [
    "guided_cram = GuidedGradCam(model, model.model.layer1)\n",
    "heatmaps_gradcam_mean = run_interpretation_method(guided_cram, 'GuidedGradCam')"
   ]
  },
  {
   "cell_type": "code",
   "execution_count": 47,
   "metadata": {},
   "outputs": [
    {
     "data": {
      "image/png": "[encoded data removed]",
      "text/plain": [
       "<Figure size 432x288 with 1 Axes>"
      ]
     },
     "metadata": {
      "needs_background": "light"
     },
     "output_type": "display_data"
    }
   ],
   "source": [
    "channel_ranking_gradcam = pd.DataFrame(data={'channels': channels[selected_channels], 'importance': heatmaps_gradcam_mean.cpu().numpy()})\n",
    "res_gradcam_mean_perturb_reverse = calculate_aopc(channel_ranking_gradcam, method='gradcam-aopc', ascending=False, perturb=True)"
   ]
  },
  {
   "cell_type": "markdown",
   "metadata": {},
   "source": [
    "#### Guided Backprop"
   ]
  },
  {
   "cell_type": "code",
   "execution_count": null,
   "metadata": {},
   "outputs": [],
   "source": [
    "guided_backprop = GuidedBackprop(model)\n",
    "heatmaps_backprop_mean = run_interpretation_method(guided_backprop, 'GuidedBackprop')"
   ]
  },
  {
   "cell_type": "code",
   "execution_count": null,
   "metadata": {},
   "outputs": [],
   "source": [
    "channel_ranking_backprop = pd.DataFrame(data={'channels': channels[selected_channels], 'importance': heatmaps_backprop_mean.cpu().numpy()})\n",
    "res_backprop_mean_perturb_reverse = calculate_aopc(channel_ranking_backprop, method='guided_backprop-aopc', ascending=False, perturb=True)"
   ]
  },
  {
   "cell_type": "markdown",
   "metadata": {},
   "source": [
    "#### DeepLiftShap"
   ]
  },
  {
   "cell_type": "code",
   "execution_count": null,
   "metadata": {},
   "outputs": [],
   "source": [
    "dlshap = DeepLiftShap(model)\n",
    "heatmaps_dlshap_mean = run_interpretation_method(dlshap, 'DeepLiftShap', require_baseline=True)"
   ]
  },
  {
   "cell_type": "code",
   "execution_count": null,
   "metadata": {},
   "outputs": [],
   "source": [
    "channel_ranking_dlshap = pd.DataFrame(data={'channels': channels[selected_channels], 'importance': heatmaps_dlshap_mean.cpu().numpy()})\n",
    "res_dlshap_mean_perturb_reverse = calculate_aopc(channel_ranking_dlshap, method='dlshap-aopc', ascending=False, perturb=True)"
   ]
  },
  {
   "cell_type": "markdown",
   "metadata": {},
   "source": [
    "#### Shapley Value Sampling"
   ]
  },
  {
   "cell_type": "code",
   "execution_count": null,
   "metadata": {},
   "outputs": [],
   "source": [
    "shapley = ShapleyValueSampling(net)\n",
    "heatmaps_shapley_mean = run_interpretation_method(shapley, 'Shapley')"
   ]
  },
  {
   "cell_type": "code",
   "execution_count": null,
   "metadata": {},
   "outputs": [],
   "source": [
    "channel_ranking_shapley = pd.DataFrame(data={'channels': channels[selected_channels], 'importance': heatmaps_shapley_mean.cpu().numpy()})\n",
    "res_shapley_mean_perturb_reverse = calculate_aopc(channel_ranking_shapley, method='shapley-aopc', ascending=False, perturb=True)"
   ]
  },
  {
   "cell_type": "markdown",
   "metadata": {},
   "source": [
    "#### Feature Permutation"
   ]
  },
  {
   "cell_type": "code",
   "execution_count": null,
   "metadata": {},
   "outputs": [],
   "source": [
    "feat_perm = FeaturePermutation(net)\n",
    "heatmaps_feat_perm_mean = run_interpretation_method(feat_perm, 'FeaturePermutation')"
   ]
  },
  {
   "cell_type": "code",
   "execution_count": null,
   "metadata": {},
   "outputs": [],
   "source": [
    "channel_ranking_feat_perm = pd.DataFrame(data={'channels': channels[selected_channels], 'importance': heatmaps_feat_perm_mean.cpu().numpy()})\n",
    "res_feat_perm_mean_perturb_reverse = calculate_aopc(channel_ranking_feat_perm, method='feat_permut-aopc', ascending=False, perturb=True)"
   ]
  },
  {
   "cell_type": "markdown",
   "metadata": {},
   "source": [
    "#### Feature Ablation"
   ]
  },
  {
   "cell_type": "code",
   "execution_count": null,
   "metadata": {},
   "outputs": [],
   "source": [
    "feat_abl = FeatureAblation(net)\n",
    "heatmaps_feat_abl_mean = run_interpretation_method(feat_abl, 'FeatureAblation')"
   ]
  },
  {
   "cell_type": "code",
   "execution_count": null,
   "metadata": {},
   "outputs": [],
   "source": [
    "channel_ranking_feat_abl = pd.DataFrame(data={'channels': channels[selected_channels], 'importance': heatmaps_feat_abl_mean.cpu().numpy()})\n",
    "res_feat_abl_mean_perturb_reverse = calculate_aopc(channel_ranking_feat_abl, method='feat_abl-aopc', ascending=False, perturb=True)"
   ]
  },
  {
   "cell_type": "markdown",
   "metadata": {},
   "source": [
    "#### GradientShap"
   ]
  },
  {
   "cell_type": "code",
   "execution_count": null,
   "metadata": {},
   "outputs": [],
   "source": [
    "gradshap = GradientShap(model)\n",
    "heatmaps_gradshap_mean = run_interpretation_method(gradshap, 'GradientShap', require_baseline=True)"
   ]
  },
  {
   "cell_type": "code",
   "execution_count": null,
   "metadata": {},
   "outputs": [],
   "source": [
    "channel_ranking_gradshap = pd.DataFrame(data={'channels': channels[selected_channels], 'importance': heatmaps_gradshap_mean.cpu().numpy()})\n",
    "res_gradshap_mean_perturb_reverse = calculate_aopc(channel_ranking_gradshap, method='gradshap-aopc', ascending=False, perturb=True)"
   ]
  },
  {
   "cell_type": "code",
   "execution_count": null,
   "metadata": {},
   "outputs": [],
   "source": []
  },
  {
   "cell_type": "code",
   "execution_count": null,
   "metadata": {},
   "outputs": [],
   "source": []
  },
  {
   "cell_type": "markdown",
   "metadata": {},
   "source": [
    "#### Random"
   ]
  },
  {
   "cell_type": "code",
   "execution_count": 48,
   "metadata": {},
   "outputs": [],
   "source": [
    "channel_ranking_random = pd.DataFrame(data={'channels': channels[selected_channels], 'importance': np.random.randint(len(selected_channels), size=len(selected_channels))})"
   ]
  },
  {
   "cell_type": "code",
   "execution_count": 49,
   "metadata": {},
   "outputs": [
    {
     "data": {
      "text/html": [
       "<div>\n",
       "<style scoped>\n",
       "    .dataframe tbody tr th:only-of-type {\n",
       "        vertical-align: middle;\n",
       "    }\n",
       "\n",
       "    .dataframe tbody tr th {\n",
       "        vertical-align: top;\n",
       "    }\n",
       "\n",
       "    .dataframe thead th {\n",
       "        text-align: right;\n",
       "    }\n",
       "</style>\n",
       "<table border=\"1\" class=\"dataframe\">\n",
       "  <thead>\n",
       "    <tr style=\"text-align: right;\">\n",
       "      <th></th>\n",
       "      <th>channels</th>\n",
       "      <th>importance</th>\n",
       "    </tr>\n",
       "  </thead>\n",
       "  <tbody>\n",
       "    <tr>\n",
       "      <th>0</th>\n",
       "      <td>Ch0</td>\n",
       "      <td>6</td>\n",
       "    </tr>\n",
       "    <tr>\n",
       "      <th>1</th>\n",
       "      <td>Ch1</td>\n",
       "      <td>3</td>\n",
       "    </tr>\n",
       "    <tr>\n",
       "      <th>2</th>\n",
       "      <td>Ch2</td>\n",
       "      <td>10</td>\n",
       "    </tr>\n",
       "    <tr>\n",
       "      <th>3</th>\n",
       "      <td>Ch3</td>\n",
       "      <td>7</td>\n",
       "    </tr>\n",
       "    <tr>\n",
       "      <th>4</th>\n",
       "      <td>Ch4</td>\n",
       "      <td>4</td>\n",
       "    </tr>\n",
       "    <tr>\n",
       "      <th>5</th>\n",
       "      <td>Ch5</td>\n",
       "      <td>6</td>\n",
       "    </tr>\n",
       "    <tr>\n",
       "      <th>6</th>\n",
       "      <td>Ch6</td>\n",
       "      <td>9</td>\n",
       "    </tr>\n",
       "    <tr>\n",
       "      <th>7</th>\n",
       "      <td>Ch7</td>\n",
       "      <td>2</td>\n",
       "    </tr>\n",
       "    <tr>\n",
       "      <th>8</th>\n",
       "      <td>Ch8</td>\n",
       "      <td>6</td>\n",
       "    </tr>\n",
       "    <tr>\n",
       "      <th>9</th>\n",
       "      <td>Ch9</td>\n",
       "      <td>10</td>\n",
       "    </tr>\n",
       "    <tr>\n",
       "      <th>10</th>\n",
       "      <td>Ch10</td>\n",
       "      <td>10</td>\n",
       "    </tr>\n",
       "    <tr>\n",
       "      <th>11</th>\n",
       "      <td>Ch11</td>\n",
       "      <td>7</td>\n",
       "    </tr>\n",
       "  </tbody>\n",
       "</table>\n",
       "</div>"
      ],
      "text/plain": [
       "   channels  importance\n",
       "0       Ch0           6\n",
       "1       Ch1           3\n",
       "2       Ch2          10\n",
       "3       Ch3           7\n",
       "4       Ch4           4\n",
       "5       Ch5           6\n",
       "6       Ch6           9\n",
       "7       Ch7           2\n",
       "8       Ch8           6\n",
       "9       Ch9          10\n",
       "10     Ch10          10\n",
       "11     Ch11           7"
      ]
     },
     "execution_count": 49,
     "metadata": {},
     "output_type": "execute_result"
    }
   ],
   "source": [
    "channel_ranking_random"
   ]
  },
  {
   "cell_type": "code",
   "execution_count": 50,
   "metadata": {},
   "outputs": [
    {
     "data": {
      "image/png": "[encoded data removed]",
      "text/plain": [
       "<Figure size 432x288 with 1 Axes>"
      ]
     },
     "metadata": {
      "needs_background": "light"
     },
     "output_type": "display_data"
    }
   ],
   "source": [
    "res_random_perturb_reverse = calculate_aopc(channel_ranking_random, method='random-perturb-aopc', ascending=False, perturb=True)"
   ]
  },
  {
   "cell_type": "code",
   "execution_count": null,
   "metadata": {},
   "outputs": [],
   "source": []
  },
  {
   "cell_type": "code",
   "execution_count": null,
   "metadata": {},
   "outputs": [],
   "source": []
  },
  {
   "cell_type": "markdown",
   "metadata": {},
   "source": [
    "#### Plot all together"
   ]
  },
  {
   "cell_type": "code",
   "execution_count": 51,
   "metadata": {},
   "outputs": [],
   "source": [
    "x = np.arange(len(res_random_perturb_reverse))"
   ]
  },
  {
   "cell_type": "code",
   "execution_count": 52,
   "metadata": {},
   "outputs": [],
   "source": [
    "cmap = plt.cm.get_cmap('hsv', 17)"
   ]
  },
  {
   "cell_type": "code",
   "execution_count": 54,
   "metadata": {},
   "outputs": [
    {
     "data": {
      "image/png": "[encoded data removed]",
      "text/plain": [
       "<Figure size 432x288 with 1 Axes>"
      ]
     },
     "metadata": {
      "needs_background": "light"
     },
     "output_type": "display_data"
    }
   ],
   "source": [
    "plt.rcParams.update({'font.size': 13})\n",
    "got_label=False\n",
    "plt.plot(x, res_deep_lift_perturb_reverse, label  = \"Channel-wise DeepLift\", c=cmap(0))\n",
    "#plt.plot(x, res_pixel_ocll_perturb_reverse, label  = \"Channel-wise Occlusion\", c=cmap(1))\n",
    "plt.plot(x, res_pixel_permutated_perturb_reverse, label  = \"Pixel-Permutation\", c=cmap(2))\n",
    "plt.plot(x, res_random_perturb_reverse, label  = \"Random Baseline\", color=cmap(15))\n",
    "#plt.plot(x, res_saliency_perturb_reverse, label  = \"Channel-wise Saliency\", c=cmap(3))\n",
    "plt.plot(x, res_integrated_gradient_perturb_reverse, label  = \"Channel-wise Integrated Gradient\", c=cmap(4))\n",
    "#plt.plot(x, res_lime_mean_perturb_reverse, label  = \"Channel-wise LIME\", c=cmap(5))\n",
    "#plt.plot(x, res_deconv_mean_perturb_reverse, label  = \"Channel-wise Deconvolution\", c=cmap(6))\n",
    "#plt.plot(x, res_lrp_mean_perturb_reverse, label  = \"Channel-wise LRP\", c=cmap(7))\n",
    "#plt.plot(x, res_gradshap_mean_perturb_reverse, label=\"Channel-wise GradientShap\", c=cmap(8))\n",
    "#plt.plot(x, res_feat_abl_mean_perturb_reverse, label=\"Channel-wise Feature Ablation\", c=cmap(9))\n",
    "#plt.plot(x, res_feat_perm_mean_perturb_reverse, label=\"Channel-wise Feature Permutation\", c=cmap(10))\n",
    "#plt.plot(x, res_shapley_mean_perturb_reverse, label=\"Channel-wise Shapley\", c=cmap(11))\n",
    "#plt.plot(x, res_dlshap_mean_perturb_reverse, label=\"Channel-wise DeepLiftShap\", c=cmap(12))\n",
    "#plt.plot(x, res_backprop_mean_perturb_reverse, label=\"Channel-wise Guided Backprop\", c=cmap(13))\n",
    "plt.plot(x, res_gradcam_mean_perturb_reverse, label=\"Channel-wise Guided GradCam\", c=cmap(14))\n",
    "plt.xlabel('Perturbation steps')\n",
    "plt.ylabel('AOPC')\n",
    "plt.legend()\n",
    "plt.savefig(os.path.join(\"results\", \"resnet_all\", \"{}-aopc-all-methods-{}.svg\".format(dataset_name, str(\"resnet_all\"))))\n",
    "#plt.savefig(os.path.join(\"results\", \"resnet_all\", \"{}-aopc-all-methods-{}.png\".format(dataset_name, str(\"resnet_all\"))))"
   ]
  },
  {
   "cell_type": "markdown",
   "metadata": {},
   "source": [
    "##### Calculate the random channel ranking 100 times to estimate the lower und upper bound "
   ]
  },
  {
   "cell_type": "code",
   "execution_count": null,
   "metadata": {},
   "outputs": [],
   "source": [
    "z=2.576"
   ]
  },
  {
   "cell_type": "code",
   "execution_count": null,
   "metadata": {},
   "outputs": [],
   "source": [
    "upper_border = mean + (z * (std / np.sqrt(len(random_rankings))))"
   ]
  },
  {
   "cell_type": "code",
   "execution_count": null,
   "metadata": {},
   "outputs": [],
   "source": [
    "lower_border = mean - (z * (std / np.sqrt(len(random_rankings))))"
   ]
  },
  {
   "cell_type": "code",
   "execution_count": null,
   "metadata": {},
   "outputs": [],
   "source": [
    "for i in range(100):\n",
    "    channel_ranking_random = pd.DataFrame(data={'channels': channels[np.asarray(only_channels)], 'importance': np.random.randint(len(selected_channels), size=len(selected_channels))})\n",
    "    random_rankings.append(calculate_aopc(channel_ranking_random, method='random-perturb-reverse', ascending=False, perturb=True, plot=False))"
   ]
  },
  {
   "cell_type": "code",
   "execution_count": null,
   "metadata": {},
   "outputs": [],
   "source": [
    "plt.rcParams.update({'font.size': 13})\n",
    "got_label=False\n",
    "for ranking in random_rankings:\n",
    "    if not got_label:\n",
    "        plt.plot(x, ranking, label  = \"Random Baseline\", color=\"grey\", linewidth=0.5, alpha=0.1)\n",
    "        got_label=True\n",
    "    else:\n",
    "        plt.plot(x, ranking, color=\"grey\", linewidth=0.5, alpha=0.1)\n",
    "plt.plot(x, res_deep_lift_perturb_reverse, label  = \"Channel-wise DeepLift\", color=\"orange\")\n",
    "plt.plot(x, res_pixel_ocll_perturb_reverse, label  = \"Channel-wise Occlusion\", color=\"green\")\n",
    "plt.plot(x, res_pixel_permutated_perturb_reverse, label  = \"Pixel-Permutation\", color=\"red\")\n",
    "#plt.plot(x, res_random_perturb_reverse, label  = \"Random Baseline\", color=\"blue\")\n",
    "plt.xlabel('Perturbation steps')\n",
    "plt.ylabel('AOPC')\n",
    "plt.legend()\n",
    "plt.savefig(os.path.join(\"results\", \"resnet_all\", \"{}-aopc-all-methods-1010-{}.svg\".format(dataset_name, str(\"resnet_all\"))))\n",
    "plt.savefig(os.path.join(\"results\", \"resnet_all\", \"{}-aopc-all-methods-1010-{}.png\".format(dataset_name, str(\"resnet_all\"))))"
   ]
  }
 ],
 "metadata": {
  "kernelspec": {
   "display_name": "newiflai",
   "language": "python",
   "name": "newiflai"
  },
  "language_info": {
   "codemirror_mode": {
    "name": "ipython",
    "version": 3
   },
   "file_extension": ".py",
   "mimetype": "text/x-python",
   "name": "python",
   "nbconvert_exporter": "python",
   "pygments_lexer": "ipython3",
   "version": "3.8.12"
  }
 },
 "nbformat": 4,
 "nbformat_minor": 5
}
